{
  "nbformat": 4,
  "nbformat_minor": 0,
  "metadata": {
    "colab": {
      "provenance": []
    },
    "kernelspec": {
      "name": "python3",
      "display_name": "Python 3"
    },
    "language_info": {
      "name": "python"
    }
  },
  "cells": [
    {
      "cell_type": "code",
      "execution_count": null,
      "metadata": {
        "colab": {
          "base_uri": "https://localhost:8080/"
        },
        "id": "g5fhw4SPI0dF",
        "outputId": "fdf7883e-33c3-490a-c853-d496ad7a68a5"
      },
      "outputs": [
        {
          "output_type": "stream",
          "name": "stdout",
          "text": [
            "Mounted at /content/drive\n"
          ]
        }
      ],
      "source": [
        "from google.colab import drive\n",
        "drive.mount('/content/drive')"
      ]
    },
    {
      "cell_type": "code",
      "source": [
        "import pandas as pd\n",
        "import numpy as np\n",
        "from scipy import stats\n",
        "from sklearn.preprocessing import StandardScaler\n",
        "from sklearn.model_selection import train_test_split"
      ],
      "metadata": {
        "id": "aSGSI3nmlbSx"
      },
      "execution_count": null,
      "outputs": []
    },
    {
      "cell_type": "code",
      "source": [
        "def process_training_data(file_path):\n",
        "    # Load the Excel file\n",
        "    df = pd.read_excel(file_path)\n",
        "\n",
        "    # 2. Outlier Detection and Removal\n",
        "    # Assuming you want to use z-score for outlier detection and removal\n",
        "    z_scores = np.abs(stats.zscore(df.select_dtypes(include=np.number)))\n",
        "    df_no_outliers = df[(z_scores < 3).all(axis=1)]  # Adjust the threshold (3) as needed\n",
        "\n",
        "    # Duplicate Removal\n",
        "    df_no_duplicates = df_no_outliers.drop_duplicates()\n",
        "\n",
        "    # 3. Normalize all columns except \"Label\"\n",
        "    features = df_no_duplicates.drop('Label', axis=1).columns\n",
        "    df_no_duplicates[features] = StandardScaler().fit_transform(df_no_duplicates[features])\n",
        "\n",
        "    # Shuffle the data\n",
        "    df_shuffled = df_no_duplicates.sample(frac=1, random_state=132)\n",
        "\n",
        "    # Split the data into training and testing (60-40 split)\n",
        "    train_data, test_data = train_test_split(df_shuffled, test_size=0.3, random_state=132)\n",
        "\n",
        "    # Split the testing data into testing and validation (50-50 split) # 42 is not good\n",
        "    # test_data, validation_data= train_test_split(temp_data, test_size=0.5, random_state=132)\n",
        "\n",
        "    # Split the training data into three equal parts\n",
        "    train_data_parts = np.array_split(train_data, 3)\n",
        "\n",
        "    # Save each part of the training data to a CSV file\n",
        "    for i, part in enumerate(train_data_parts, 1):\n",
        "        part.to_csv(f'/content/drive/MyDrive/TRAINING_NORMAL_TRY2_Group{i}.csv', index=False)\n",
        "\n",
        "    # Save the testing data to a CSV file\n",
        "    test_data.to_csv('/content/drive/MyDrive/TEST_NORMAL_TRY2.csv', index=False)\n"
      ],
      "metadata": {
        "id": "fydGY4x4FwA5"
      },
      "execution_count": null,
      "outputs": []
    },
    {
      "cell_type": "code",
      "source": [
        "process_training_data('/content/drive/MyDrive/Training_Data_30July2019_v0.2.xlsx')"
      ],
      "metadata": {
        "id": "gbCQpzuwGEkZ"
      },
      "execution_count": null,
      "outputs": []
    }
  ]
}