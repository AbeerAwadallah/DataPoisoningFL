{
  "nbformat": 4,
  "nbformat_minor": 0,
  "metadata": {
    "colab": {
      "provenance": [],
      "collapsed_sections": [
        "kZo6jxLF2LHH",
        "H1I07Mh52VWV",
        "ky4BCoNl1JGx",
        "O_4YZAnvJ6db",
        "MhQmIn_mKALV",
        "gCx_1G3Q1dHR",
        "o3yHt81V1i2N"
      ],
      "machine_shape": "hm"
    },
    "kernelspec": {
      "name": "python3",
      "display_name": "Python 3"
    },
    "language_info": {
      "name": "python"
    }
  },
  "cells": [
    {
      "cell_type": "markdown",
      "source": [
        "# Install TFF"
      ],
      "metadata": {
        "id": "kZo6jxLF2LHH"
      }
    },
    {
      "cell_type": "code",
      "source": [
        "!pip install --upgrade pip setuptools wheel\n",
        "!pip uninstall typing-extensions== 4.5.0\n",
        "!pip install typing-extensions== 4.8.0\n",
        "!pip uninstall portpicker==1.6.0\n",
        "!pip install portpicker==1.5.2\n",
        "!pip uninstall sqlalchemy==1.4.20\n",
        "!pip install sqlalchemy==2.0\n",
        "!pip uninstall numpy==1.25.2\n",
        "!pip install numpy==1.23\n",
        "\n",
        "\n",
        "!pip install fastapi\n",
        "!pip install kaleido\n",
        "!pip install python-multipart\n",
        "!pip install uvicorn"
      ],
      "metadata": {
        "colab": {
          "base_uri": "https://localhost:8080/",
          "height": 1000
        },
        "id": "tvF_KcVYiYRe",
        "outputId": "0a475073-b2ec-453f-d47d-6aaf577dba9b"
      },
      "execution_count": 1,
      "outputs": [
        {
          "output_type": "stream",
          "name": "stdout",
          "text": [
            "Requirement already satisfied: pip in /usr/local/lib/python3.10/dist-packages (23.1.2)\n",
            "Collecting pip\n",
            "  Downloading pip-23.3.1-py3-none-any.whl (2.1 MB)\n",
            "\u001b[2K     \u001b[90m━━━━━━━━━━━━━━━━━━━━━━━━━━━━━━━━━━━━━━━━\u001b[0m \u001b[32m2.1/2.1 MB\u001b[0m \u001b[31m20.7 MB/s\u001b[0m eta \u001b[36m0:00:00\u001b[0m\n",
            "\u001b[?25hRequirement already satisfied: setuptools in /usr/local/lib/python3.10/dist-packages (67.7.2)\n",
            "Collecting setuptools\n",
            "  Downloading setuptools-69.0.2-py3-none-any.whl (819 kB)\n",
            "\u001b[2K     \u001b[90m━━━━━━━━━━━━━━━━━━━━━━━━━━━━━━━━━━━━━━━━\u001b[0m \u001b[32m819.5/819.5 kB\u001b[0m \u001b[31m59.7 MB/s\u001b[0m eta \u001b[36m0:00:00\u001b[0m\n",
            "\u001b[?25hRequirement already satisfied: wheel in /usr/local/lib/python3.10/dist-packages (0.41.3)\n",
            "Installing collected packages: setuptools, pip\n",
            "  Attempting uninstall: setuptools\n",
            "    Found existing installation: setuptools 67.7.2\n",
            "    Uninstalling setuptools-67.7.2:\n",
            "      Successfully uninstalled setuptools-67.7.2\n",
            "  Attempting uninstall: pip\n",
            "    Found existing installation: pip 23.1.2\n",
            "    Uninstalling pip-23.1.2:\n",
            "      Successfully uninstalled pip-23.1.2\n",
            "\u001b[31mERROR: pip's dependency resolver does not currently take into account all the packages that are installed. This behaviour is the source of the following dependency conflicts.\n",
            "ipython 7.34.0 requires jedi>=0.16, which is not installed.\n",
            "lida 0.0.10 requires fastapi, which is not installed.\n",
            "lida 0.0.10 requires kaleido, which is not installed.\n",
            "lida 0.0.10 requires python-multipart, which is not installed.\n",
            "lida 0.0.10 requires uvicorn, which is not installed.\u001b[0m\u001b[31m\n",
            "\u001b[0mSuccessfully installed pip-23.3.1 setuptools-69.0.2\n"
          ]
        },
        {
          "output_type": "display_data",
          "data": {
            "application/vnd.colab-display-data+json": {
              "pip_warning": {
                "packages": [
                  "_distutils_hack",
                  "pkg_resources",
                  "setuptools"
                ]
              }
            }
          },
          "metadata": {}
        },
        {
          "output_type": "stream",
          "name": "stdout",
          "text": [
            "Found existing installation: typing_extensions 4.5.0\n",
            "Uninstalling typing_extensions-4.5.0:\n",
            "  Would remove:\n",
            "    /usr/local/lib/python3.10/dist-packages/typing_extensions-4.5.0.dist-info/*\n",
            "    /usr/local/lib/python3.10/dist-packages/typing_extensions.py\n",
            "Proceed (Y/n)? Y\n",
            "  Successfully uninstalled typing_extensions-4.5.0\n",
            "\u001b[33mWARNING: Skipping 4.5.0 as it is not installed.\u001b[0m\u001b[33m\n",
            "\u001b[0m\u001b[33mWARNING: Running pip as the 'root' user can result in broken permissions and conflicting behaviour with the system package manager. It is recommended to use a virtual environment instead: https://pip.pypa.io/warnings/venv\u001b[0m\u001b[33m\n",
            "\u001b[0m\u001b[31mERROR: Could not find a version that satisfies the requirement typing-extensions== (from versions: 3.6.2, 3.6.2.1, 3.6.5, 3.6.6, 3.7.2, 3.7.4, 3.7.4.1, 3.7.4.2, 3.7.4.3, 3.10.0.0, 3.10.0.1, 3.10.0.2, 4.0.0, 4.0.1, 4.1.0, 4.1.1, 4.2.0, 4.3.0, 4.4.0, 4.5.0, 4.6.0, 4.6.1, 4.6.2, 4.6.3, 4.7.0rc1, 4.7.0, 4.7.1, 4.8.0rc1, 4.8.0)\u001b[0m\u001b[31m\n",
            "\u001b[0m\u001b[31mERROR: No matching distribution found for typing-extensions==\u001b[0m\u001b[31m\n",
            "\u001b[0mFound existing installation: portpicker 1.5.2\n",
            "Uninstalling portpicker-1.5.2:\n",
            "  Would remove:\n",
            "    /usr/local/bin/portserver.py\n",
            "    /usr/local/lib/python3.10/dist-packages/portpicker-1.5.2.dist-info/*\n",
            "    /usr/local/lib/python3.10/dist-packages/portpicker.py\n",
            "Proceed (Y/n)? Y\n",
            "  Successfully uninstalled portpicker-1.5.2\n",
            "\u001b[33mWARNING: Running pip as the 'root' user can result in broken permissions and conflicting behaviour with the system package manager. It is recommended to use a virtual environment instead: https://pip.pypa.io/warnings/venv\u001b[0m\u001b[33m\n",
            "\u001b[0mCollecting portpicker==1.5.2\n",
            "  Downloading portpicker-1.5.2-py3-none-any.whl (14 kB)\n",
            "Requirement already satisfied: psutil in /usr/local/lib/python3.10/dist-packages (from portpicker==1.5.2) (5.9.5)\n",
            "Installing collected packages: portpicker\n",
            "Successfully installed portpicker-1.5.2\n",
            "\u001b[33mWARNING: Running pip as the 'root' user can result in broken permissions and conflicting behaviour with the system package manager. It is recommended to use a virtual environment instead: https://pip.pypa.io/warnings/venv\u001b[0m\u001b[33m\n",
            "\u001b[0m"
          ]
        },
        {
          "output_type": "display_data",
          "data": {
            "application/vnd.colab-display-data+json": {
              "pip_warning": {
                "packages": [
                  "portpicker"
                ]
              }
            }
          },
          "metadata": {}
        },
        {
          "output_type": "stream",
          "name": "stdout",
          "text": [
            "Found existing installation: SQLAlchemy 2.0.23\n",
            "Uninstalling SQLAlchemy-2.0.23:\n",
            "  Would remove:\n",
            "    /usr/local/lib/python3.10/dist-packages/SQLAlchemy-2.0.23.dist-info/*\n",
            "    /usr/local/lib/python3.10/dist-packages/sqlalchemy/*\n",
            "Proceed (Y/n)? Y\n",
            "  Successfully uninstalled SQLAlchemy-2.0.23\n",
            "\u001b[33mWARNING: Running pip as the 'root' user can result in broken permissions and conflicting behaviour with the system package manager. It is recommended to use a virtual environment instead: https://pip.pypa.io/warnings/venv\u001b[0m\u001b[33m\n",
            "\u001b[0mCollecting sqlalchemy==2.0\n",
            "  Downloading SQLAlchemy-2.0.0-cp310-cp310-manylinux_2_17_x86_64.manylinux2014_x86_64.whl (2.7 MB)\n",
            "\u001b[2K     \u001b[90m━━━━━━━━━━━━━━━━━━━━━━━━━━━━━━━━━━━━━━━━\u001b[0m \u001b[32m2.7/2.7 MB\u001b[0m \u001b[31m10.7 MB/s\u001b[0m eta \u001b[36m0:00:00\u001b[0m\n",
            "\u001b[?25hCollecting typing-extensions>=4.2.0 (from sqlalchemy==2.0)\n",
            "  Downloading typing_extensions-4.8.0-py3-none-any.whl.metadata (3.0 kB)\n",
            "Requirement already satisfied: greenlet!=0.4.17 in /usr/local/lib/python3.10/dist-packages (from sqlalchemy==2.0) (3.0.1)\n",
            "Downloading typing_extensions-4.8.0-py3-none-any.whl (31 kB)\n",
            "Installing collected packages: typing-extensions, sqlalchemy\n",
            "\u001b[31mERROR: pip's dependency resolver does not currently take into account all the packages that are installed. This behaviour is the source of the following dependency conflicts.\n",
            "tensorflow-probability 0.22.0 requires typing-extensions<4.6.0, but you have typing-extensions 4.8.0 which is incompatible.\u001b[0m\u001b[31m\n",
            "\u001b[0mSuccessfully installed sqlalchemy-2.0.0 typing-extensions-4.8.0\n",
            "\u001b[33mWARNING: Running pip as the 'root' user can result in broken permissions and conflicting behaviour with the system package manager. It is recommended to use a virtual environment instead: https://pip.pypa.io/warnings/venv\u001b[0m\u001b[33m\n",
            "\u001b[0mFound existing installation: numpy 1.23.5\n",
            "Uninstalling numpy-1.23.5:\n",
            "  Would remove:\n",
            "    /usr/local/bin/f2py\n",
            "    /usr/local/bin/f2py3\n",
            "    /usr/local/bin/f2py3.10\n",
            "    /usr/local/lib/python3.10/dist-packages/numpy-1.23.5.dist-info/*\n",
            "    /usr/local/lib/python3.10/dist-packages/numpy.libs/libgfortran-040039e1.so.5.0.0\n",
            "    /usr/local/lib/python3.10/dist-packages/numpy.libs/libopenblas64_p-r0-742d56dc.3.20.so\n",
            "    /usr/local/lib/python3.10/dist-packages/numpy.libs/libquadmath-96973f99.so.0.0.0\n",
            "    /usr/local/lib/python3.10/dist-packages/numpy/*\n",
            "Proceed (Y/n)? Y\n",
            "  Successfully uninstalled numpy-1.23.5\n",
            "\u001b[33mWARNING: Running pip as the 'root' user can result in broken permissions and conflicting behaviour with the system package manager. It is recommended to use a virtual environment instead: https://pip.pypa.io/warnings/venv\u001b[0m\u001b[33m\n",
            "\u001b[0mCollecting numpy==1.23\n",
            "  Downloading numpy-1.23.0-cp310-cp310-manylinux_2_17_x86_64.manylinux2014_x86_64.whl (17.0 MB)\n",
            "\u001b[2K     \u001b[90m━━━━━━━━━━━━━━━━━━━━━━━━━━━━━━━━━━━━━━━━\u001b[0m \u001b[32m17.0/17.0 MB\u001b[0m \u001b[31m72.3 MB/s\u001b[0m eta \u001b[36m0:00:00\u001b[0m\n",
            "\u001b[?25hInstalling collected packages: numpy\n",
            "\u001b[31mERROR: pip's dependency resolver does not currently take into account all the packages that are installed. This behaviour is the source of the following dependency conflicts.\n",
            "lida 0.0.10 requires fastapi, which is not installed.\n",
            "lida 0.0.10 requires kaleido, which is not installed.\n",
            "lida 0.0.10 requires python-multipart, which is not installed.\n",
            "lida 0.0.10 requires uvicorn, which is not installed.\n",
            "tensorflow 2.14.0 requires numpy>=1.23.5, but you have numpy 1.23.0 which is incompatible.\n",
            "tensorflow-probability 0.22.0 requires typing-extensions<4.6.0, but you have typing-extensions 4.8.0 which is incompatible.\u001b[0m\u001b[31m\n",
            "\u001b[0mSuccessfully installed numpy-1.23.0\n",
            "\u001b[33mWARNING: Running pip as the 'root' user can result in broken permissions and conflicting behaviour with the system package manager. It is recommended to use a virtual environment instead: https://pip.pypa.io/warnings/venv\u001b[0m\u001b[33m\n",
            "\u001b[0m"
          ]
        },
        {
          "output_type": "display_data",
          "data": {
            "application/vnd.colab-display-data+json": {
              "pip_warning": {
                "packages": [
                  "numpy"
                ]
              }
            }
          },
          "metadata": {}
        },
        {
          "output_type": "stream",
          "name": "stdout",
          "text": [
            "Collecting fastapi\n",
            "  Downloading fastapi-0.104.1-py3-none-any.whl.metadata (24 kB)\n",
            "Requirement already satisfied: anyio<4.0.0,>=3.7.1 in /usr/local/lib/python3.10/dist-packages (from fastapi) (3.7.1)\n",
            "Requirement already satisfied: pydantic!=1.8,!=1.8.1,!=2.0.0,!=2.0.1,!=2.1.0,<3.0.0,>=1.7.4 in /usr/local/lib/python3.10/dist-packages (from fastapi) (1.10.13)\n",
            "Collecting starlette<0.28.0,>=0.27.0 (from fastapi)\n",
            "  Downloading starlette-0.27.0-py3-none-any.whl.metadata (5.8 kB)\n",
            "Requirement already satisfied: typing-extensions>=4.8.0 in /usr/local/lib/python3.10/dist-packages (from fastapi) (4.8.0)\n",
            "Requirement already satisfied: idna>=2.8 in /usr/local/lib/python3.10/dist-packages (from anyio<4.0.0,>=3.7.1->fastapi) (3.4)\n",
            "Requirement already satisfied: sniffio>=1.1 in /usr/local/lib/python3.10/dist-packages (from anyio<4.0.0,>=3.7.1->fastapi) (1.3.0)\n",
            "Requirement already satisfied: exceptiongroup in /usr/local/lib/python3.10/dist-packages (from anyio<4.0.0,>=3.7.1->fastapi) (1.1.3)\n",
            "Downloading fastapi-0.104.1-py3-none-any.whl (92 kB)\n",
            "\u001b[2K   \u001b[90m━━━━━━━━━━━━━━━━━━━━━━━━━━━━━━━━━━━━━━━━\u001b[0m \u001b[32m92.9/92.9 kB\u001b[0m \u001b[31m2.9 MB/s\u001b[0m eta \u001b[36m0:00:00\u001b[0m\n",
            "\u001b[?25hDownloading starlette-0.27.0-py3-none-any.whl (66 kB)\n",
            "\u001b[2K   \u001b[90m━━━━━━━━━━━━━━━━━━━━━━━━━━━━━━━━━━━━━━━━\u001b[0m \u001b[32m67.0/67.0 kB\u001b[0m \u001b[31m4.0 MB/s\u001b[0m eta \u001b[36m0:00:00\u001b[0m\n",
            "\u001b[?25hInstalling collected packages: starlette, fastapi\n",
            "\u001b[31mERROR: pip's dependency resolver does not currently take into account all the packages that are installed. This behaviour is the source of the following dependency conflicts.\n",
            "lida 0.0.10 requires kaleido, which is not installed.\n",
            "lida 0.0.10 requires python-multipart, which is not installed.\n",
            "lida 0.0.10 requires uvicorn, which is not installed.\u001b[0m\u001b[31m\n",
            "\u001b[0mSuccessfully installed fastapi-0.104.1 starlette-0.27.0\n",
            "\u001b[33mWARNING: Running pip as the 'root' user can result in broken permissions and conflicting behaviour with the system package manager. It is recommended to use a virtual environment instead: https://pip.pypa.io/warnings/venv\u001b[0m\u001b[33m\n",
            "\u001b[0mCollecting kaleido\n",
            "  Downloading kaleido-0.2.1-py2.py3-none-manylinux1_x86_64.whl (79.9 MB)\n",
            "\u001b[2K     \u001b[90m━━━━━━━━━━━━━━━━━━━━━━━━━━━━━━━━━━━━━━━━\u001b[0m \u001b[32m79.9/79.9 MB\u001b[0m \u001b[31m9.3 MB/s\u001b[0m eta \u001b[36m0:00:00\u001b[0m\n",
            "\u001b[?25hInstalling collected packages: kaleido\n",
            "\u001b[31mERROR: pip's dependency resolver does not currently take into account all the packages that are installed. This behaviour is the source of the following dependency conflicts.\n",
            "lida 0.0.10 requires python-multipart, which is not installed.\n",
            "lida 0.0.10 requires uvicorn, which is not installed.\u001b[0m\u001b[31m\n",
            "\u001b[0mSuccessfully installed kaleido-0.2.1\n",
            "\u001b[33mWARNING: Running pip as the 'root' user can result in broken permissions and conflicting behaviour with the system package manager. It is recommended to use a virtual environment instead: https://pip.pypa.io/warnings/venv\u001b[0m\u001b[33m\n",
            "\u001b[0mCollecting python-multipart\n",
            "  Downloading python_multipart-0.0.6-py3-none-any.whl (45 kB)\n",
            "\u001b[2K     \u001b[90m━━━━━━━━━━━━━━━━━━━━━━━━━━━━━━━━━━━━━━━━\u001b[0m \u001b[32m45.7/45.7 kB\u001b[0m \u001b[31m1.1 MB/s\u001b[0m eta \u001b[36m0:00:00\u001b[0m\n",
            "\u001b[?25hInstalling collected packages: python-multipart\n",
            "\u001b[31mERROR: pip's dependency resolver does not currently take into account all the packages that are installed. This behaviour is the source of the following dependency conflicts.\n",
            "lida 0.0.10 requires uvicorn, which is not installed.\u001b[0m\u001b[31m\n",
            "\u001b[0mSuccessfully installed python-multipart-0.0.6\n",
            "\u001b[33mWARNING: Running pip as the 'root' user can result in broken permissions and conflicting behaviour with the system package manager. It is recommended to use a virtual environment instead: https://pip.pypa.io/warnings/venv\u001b[0m\u001b[33m\n",
            "\u001b[0mCollecting uvicorn\n",
            "  Downloading uvicorn-0.24.0.post1-py3-none-any.whl.metadata (6.4 kB)\n",
            "Requirement already satisfied: click>=7.0 in /usr/local/lib/python3.10/dist-packages (from uvicorn) (8.1.7)\n",
            "Collecting h11>=0.8 (from uvicorn)\n",
            "  Downloading h11-0.14.0-py3-none-any.whl (58 kB)\n",
            "\u001b[2K     \u001b[90m━━━━━━━━━━━━━━━━━━━━━━━━━━━━━━━━━━━━━━━━\u001b[0m \u001b[32m58.3/58.3 kB\u001b[0m \u001b[31m1.3 MB/s\u001b[0m eta \u001b[36m0:00:00\u001b[0m\n",
            "\u001b[?25hRequirement already satisfied: typing-extensions>=4.0 in /usr/local/lib/python3.10/dist-packages (from uvicorn) (4.8.0)\n",
            "Downloading uvicorn-0.24.0.post1-py3-none-any.whl (59 kB)\n",
            "\u001b[2K   \u001b[90m━━━━━━━━━━━━━━━━━━━━━━━━━━━━━━━━━━━━━━━━\u001b[0m \u001b[32m59.7/59.7 kB\u001b[0m \u001b[31m3.1 MB/s\u001b[0m eta \u001b[36m0:00:00\u001b[0m\n",
            "\u001b[?25hInstalling collected packages: h11, uvicorn\n",
            "Successfully installed h11-0.14.0 uvicorn-0.24.0.post1\n",
            "\u001b[33mWARNING: Running pip as the 'root' user can result in broken permissions and conflicting behaviour with the system package manager. It is recommended to use a virtual environment instead: https://pip.pypa.io/warnings/venv\u001b[0m\u001b[33m\n",
            "\u001b[0m"
          ]
        }
      ]
    },
    {
      "cell_type": "markdown",
      "source": [
        "Please restart runtime then resume"
      ],
      "metadata": {
        "id": "GREYdSdN5z_X"
      }
    },
    {
      "cell_type": "code",
      "source": [
        "import numpy as np\n",
        "print(np.__version__)\n"
      ],
      "metadata": {
        "colab": {
          "base_uri": "https://localhost:8080/"
        },
        "id": "qA3YVIr0RG0r",
        "outputId": "607f2f97-f034-4bb6-e9c1-aed0023dfeb9"
      },
      "execution_count": 1,
      "outputs": [
        {
          "output_type": "stream",
          "name": "stdout",
          "text": [
            "1.23.0\n"
          ]
        }
      ]
    },
    {
      "cell_type": "code",
      "source": [
        "#@test {\"skip\": true}\n",
        "!pip install tensorflow_federated\n",
        "\n",
        "%load_ext tensorboard"
      ],
      "metadata": {
        "colab": {
          "base_uri": "https://localhost:8080/",
          "height": 1000
        },
        "id": "Sex4Aa9Bzagp",
        "outputId": "8c71e7bf-b146-40e7-d978-769ebd2aab52"
      },
      "execution_count": 2,
      "outputs": [
        {
          "output_type": "stream",
          "name": "stdout",
          "text": [
            "Collecting tensorflow_federated\n",
            "  Downloading tensorflow_federated-0.65.0-py3-none-manylinux_2_31_x86_64.whl.metadata (3.9 kB)\n",
            "Requirement already satisfied: absl-py==1.*,>=1.0 in /usr/local/lib/python3.10/dist-packages (from tensorflow_federated) (1.4.0)\n",
            "Requirement already satisfied: attrs~=23.1 in /usr/local/lib/python3.10/dist-packages (from tensorflow_federated) (23.1.0)\n",
            "Requirement already satisfied: cachetools~=5.3 in /usr/local/lib/python3.10/dist-packages (from tensorflow_federated) (5.3.2)\n",
            "Requirement already satisfied: dm-tree==0.1.8 in /usr/local/lib/python3.10/dist-packages (from tensorflow_federated) (0.1.8)\n",
            "Collecting dp-accounting==0.4.3 (from tensorflow_federated)\n",
            "  Downloading dp_accounting-0.4.3-py3-none-any.whl.metadata (1.8 kB)\n",
            "Collecting farmhashpy==0.4.0 (from tensorflow_federated)\n",
            "  Downloading farmhashpy-0.4.0.tar.gz (98 kB)\n",
            "\u001b[2K     \u001b[90m━━━━━━━━━━━━━━━━━━━━━━━━━━━━━━━━━━━━━━━━\u001b[0m \u001b[32m98.7/98.7 kB\u001b[0m \u001b[31m2.3 MB/s\u001b[0m eta \u001b[36m0:00:00\u001b[0m\n",
            "\u001b[?25h  Preparing metadata (setup.py) ... \u001b[?25l\u001b[?25hdone\n",
            "Collecting google-vizier==0.1.11 (from tensorflow_federated)\n",
            "  Downloading google_vizier-0.1.11-py3-none-any.whl.metadata (10 kB)\n",
            "Requirement already satisfied: grpcio~=1.46 in /usr/local/lib/python3.10/dist-packages (from tensorflow_federated) (1.59.2)\n",
            "Collecting jaxlib==0.4.14 (from tensorflow_federated)\n",
            "  Downloading jaxlib-0.4.14-cp310-cp310-manylinux2014_x86_64.whl.metadata (2.0 kB)\n",
            "Collecting jax==0.4.14 (from tensorflow_federated)\n",
            "  Downloading jax-0.4.14.tar.gz (1.3 MB)\n",
            "\u001b[2K     \u001b[90m━━━━━━━━━━━━━━━━━━━━━━━━━━━━━━━━━━━━━━━━\u001b[0m \u001b[32m1.3/1.3 MB\u001b[0m \u001b[31m6.1 MB/s\u001b[0m eta \u001b[36m0:00:00\u001b[0m\n",
            "\u001b[?25h  Installing build dependencies ... \u001b[?25l\u001b[?25hdone\n",
            "  Getting requirements to build wheel ... \u001b[?25l\u001b[?25hdone\n",
            "  Preparing metadata (pyproject.toml) ... \u001b[?25l\u001b[?25hdone\n",
            "Collecting numpy~=1.25 (from tensorflow_federated)\n",
            "  Downloading numpy-1.26.2-cp310-cp310-manylinux_2_17_x86_64.manylinux2014_x86_64.whl.metadata (61 kB)\n",
            "\u001b[2K     \u001b[90m━━━━━━━━━━━━━━━━━━━━━━━━━━━━━━━━━━━━━━━━\u001b[0m \u001b[32m61.2/61.2 kB\u001b[0m \u001b[31m1.6 MB/s\u001b[0m eta \u001b[36m0:00:00\u001b[0m\n",
            "\u001b[?25hCollecting portpicker~=1.6 (from tensorflow_federated)\n",
            "  Downloading portpicker-1.6.0-py3-none-any.whl.metadata (1.5 kB)\n",
            "Collecting scipy~=1.9.3 (from tensorflow_federated)\n",
            "  Downloading scipy-1.9.3-cp310-cp310-manylinux_2_17_x86_64.manylinux2014_x86_64.whl (33.7 MB)\n",
            "\u001b[2K     \u001b[90m━━━━━━━━━━━━━━━━━━━━━━━━━━━━━━━━━━━━━━━━\u001b[0m \u001b[32m33.7/33.7 MB\u001b[0m \u001b[31m32.7 MB/s\u001b[0m eta \u001b[36m0:00:00\u001b[0m\n",
            "\u001b[?25hCollecting semantic-version~=2.6 (from tensorflow_federated)\n",
            "  Downloading semantic_version-2.10.0-py2.py3-none-any.whl (15 kB)\n",
            "Collecting tensorflow-compression==2.14.*,>=2.14.0 (from tensorflow_federated)\n",
            "  Downloading tensorflow_compression-2.14.0-cp310-cp310-manylinux_2_17_x86_64.manylinux2014_x86_64.whl.metadata (1.2 kB)\n",
            "Collecting tensorflow-model-optimization==0.7.5 (from tensorflow_federated)\n",
            "  Downloading tensorflow_model_optimization-0.7.5-py2.py3-none-any.whl.metadata (914 bytes)\n",
            "Collecting tensorflow-privacy==0.8.12 (from tensorflow_federated)\n",
            "  Downloading tensorflow_privacy-0.8.12-py3-none-any.whl.metadata (962 bytes)\n",
            "Requirement already satisfied: tensorflow==2.14.*,>=2.14.0 in /usr/local/lib/python3.10/dist-packages (from tensorflow_federated) (2.14.0)\n",
            "Requirement already satisfied: tqdm~=4.64 in /usr/local/lib/python3.10/dist-packages (from tensorflow_federated) (4.66.1)\n",
            "Collecting typing-extensions==4.5.*,>=4.5.0 (from tensorflow_federated)\n",
            "  Downloading typing_extensions-4.5.0-py3-none-any.whl (27 kB)\n",
            "Requirement already satisfied: mpmath~=1.2 in /usr/local/lib/python3.10/dist-packages (from dp-accounting==0.4.3->tensorflow_federated) (1.3.0)\n",
            "Requirement already satisfied: protobuf>=3.6 in /usr/local/lib/python3.10/dist-packages (from google-vizier==0.1.11->tensorflow_federated) (3.20.3)\n",
            "Collecting grpcio-tools>=1.35.0 (from google-vizier==0.1.11->tensorflow_federated)\n",
            "  Downloading grpcio_tools-1.59.3-cp310-cp310-manylinux_2_17_x86_64.manylinux2014_x86_64.whl.metadata (6.2 kB)\n",
            "Requirement already satisfied: googleapis-common-protos>=1.56.4 in /usr/local/lib/python3.10/dist-packages (from google-vizier==0.1.11->tensorflow_federated) (1.61.0)\n",
            "Collecting sqlalchemy<=1.4.20,>=1.4 (from google-vizier==0.1.11->tensorflow_federated)\n",
            "  Downloading SQLAlchemy-1.4.20.tar.gz (7.7 MB)\n",
            "\u001b[2K     \u001b[90m━━━━━━━━━━━━━━━━━━━━━━━━━━━━━━━━━━━━━━━━\u001b[0m \u001b[32m7.7/7.7 MB\u001b[0m \u001b[31m32.4 MB/s\u001b[0m eta \u001b[36m0:00:00\u001b[0m\n",
            "\u001b[?25h  Preparing metadata (setup.py) ... \u001b[?25l\u001b[?25hdone\n",
            "Requirement already satisfied: ml-dtypes>=0.2.0 in /usr/local/lib/python3.10/dist-packages (from jax==0.4.14->tensorflow_federated) (0.2.0)\n",
            "Requirement already satisfied: opt-einsum in /usr/local/lib/python3.10/dist-packages (from jax==0.4.14->tensorflow_federated) (3.3.0)\n",
            "Requirement already satisfied: astunparse>=1.6.0 in /usr/local/lib/python3.10/dist-packages (from tensorflow==2.14.*,>=2.14.0->tensorflow_federated) (1.6.3)\n",
            "Requirement already satisfied: flatbuffers>=23.5.26 in /usr/local/lib/python3.10/dist-packages (from tensorflow==2.14.*,>=2.14.0->tensorflow_federated) (23.5.26)\n",
            "Requirement already satisfied: gast!=0.5.0,!=0.5.1,!=0.5.2,>=0.2.1 in /usr/local/lib/python3.10/dist-packages (from tensorflow==2.14.*,>=2.14.0->tensorflow_federated) (0.5.4)\n",
            "Requirement already satisfied: google-pasta>=0.1.1 in /usr/local/lib/python3.10/dist-packages (from tensorflow==2.14.*,>=2.14.0->tensorflow_federated) (0.2.0)\n",
            "Requirement already satisfied: h5py>=2.9.0 in /usr/local/lib/python3.10/dist-packages (from tensorflow==2.14.*,>=2.14.0->tensorflow_federated) (3.9.0)\n",
            "Requirement already satisfied: libclang>=13.0.0 in /usr/local/lib/python3.10/dist-packages (from tensorflow==2.14.*,>=2.14.0->tensorflow_federated) (16.0.6)\n",
            "Requirement already satisfied: packaging in /usr/local/lib/python3.10/dist-packages (from tensorflow==2.14.*,>=2.14.0->tensorflow_federated) (23.2)\n",
            "Requirement already satisfied: setuptools in /usr/local/lib/python3.10/dist-packages (from tensorflow==2.14.*,>=2.14.0->tensorflow_federated) (69.0.2)\n",
            "Requirement already satisfied: six>=1.12.0 in /usr/local/lib/python3.10/dist-packages (from tensorflow==2.14.*,>=2.14.0->tensorflow_federated) (1.16.0)\n",
            "Requirement already satisfied: termcolor>=1.1.0 in /usr/local/lib/python3.10/dist-packages (from tensorflow==2.14.*,>=2.14.0->tensorflow_federated) (2.3.0)\n",
            "Requirement already satisfied: wrapt<1.15,>=1.11.0 in /usr/local/lib/python3.10/dist-packages (from tensorflow==2.14.*,>=2.14.0->tensorflow_federated) (1.14.1)\n",
            "Requirement already satisfied: tensorflow-io-gcs-filesystem>=0.23.1 in /usr/local/lib/python3.10/dist-packages (from tensorflow==2.14.*,>=2.14.0->tensorflow_federated) (0.34.0)\n",
            "Requirement already satisfied: tensorboard<2.15,>=2.14 in /usr/local/lib/python3.10/dist-packages (from tensorflow==2.14.*,>=2.14.0->tensorflow_federated) (2.14.1)\n",
            "Requirement already satisfied: tensorflow-estimator<2.15,>=2.14.0 in /usr/local/lib/python3.10/dist-packages (from tensorflow==2.14.*,>=2.14.0->tensorflow_federated) (2.14.0)\n",
            "Requirement already satisfied: keras<2.15,>=2.14.0 in /usr/local/lib/python3.10/dist-packages (from tensorflow==2.14.*,>=2.14.0->tensorflow_federated) (2.14.0)\n",
            "Requirement already satisfied: tensorflow-probability~=0.15 in /usr/local/lib/python3.10/dist-packages (from tensorflow-compression==2.14.*,>=2.14.0->tensorflow_federated) (0.22.0)\n",
            "Collecting immutabledict~=2.2 (from tensorflow-privacy==0.8.12->tensorflow_federated)\n",
            "  Downloading immutabledict-2.2.5-py3-none-any.whl.metadata (3.2 kB)\n",
            "Requirement already satisfied: matplotlib~=3.3 in /usr/local/lib/python3.10/dist-packages (from tensorflow-privacy==0.8.12->tensorflow_federated) (3.7.1)\n",
            "Collecting packaging (from tensorflow==2.14.*,>=2.14.0->tensorflow_federated)\n",
            "  Downloading packaging-22.0-py3-none-any.whl (42 kB)\n",
            "\u001b[2K     \u001b[90m━━━━━━━━━━━━━━━━━━━━━━━━━━━━━━━━━━━━━━━━\u001b[0m \u001b[32m42.6/42.6 kB\u001b[0m \u001b[31m2.6 MB/s\u001b[0m eta \u001b[36m0:00:00\u001b[0m\n",
            "\u001b[?25hRequirement already satisfied: pandas~=1.4 in /usr/local/lib/python3.10/dist-packages (from tensorflow-privacy==0.8.12->tensorflow_federated) (1.5.3)\n",
            "Requirement already satisfied: scikit-learn==1.*,>=1.0 in /usr/local/lib/python3.10/dist-packages (from tensorflow-privacy==0.8.12->tensorflow_federated) (1.2.2)\n",
            "Requirement already satisfied: statsmodels~=0.13 in /usr/local/lib/python3.10/dist-packages (from tensorflow-privacy==0.8.12->tensorflow_federated) (0.14.0)\n",
            "Collecting tf-models-official~=2.13 (from tensorflow-privacy==0.8.12->tensorflow_federated)\n",
            "  Downloading tf_models_official-2.15.0-py2.py3-none-any.whl.metadata (1.4 kB)\n",
            "Requirement already satisfied: joblib>=1.1.1 in /usr/local/lib/python3.10/dist-packages (from scikit-learn==1.*,>=1.0->tensorflow-privacy==0.8.12->tensorflow_federated) (1.3.2)\n",
            "Requirement already satisfied: threadpoolctl>=2.0.0 in /usr/local/lib/python3.10/dist-packages (from scikit-learn==1.*,>=1.0->tensorflow-privacy==0.8.12->tensorflow_federated) (3.2.0)\n",
            "Requirement already satisfied: psutil in /usr/local/lib/python3.10/dist-packages (from portpicker~=1.6->tensorflow_federated) (5.9.5)\n",
            "Collecting numpy~=1.25 (from tensorflow_federated)\n",
            "  Downloading numpy-1.25.2-cp310-cp310-manylinux_2_17_x86_64.manylinux2014_x86_64.whl.metadata (5.6 kB)\n",
            "Requirement already satisfied: wheel<1.0,>=0.23.0 in /usr/local/lib/python3.10/dist-packages (from astunparse>=1.6.0->tensorflow==2.14.*,>=2.14.0->tensorflow_federated) (0.41.3)\n",
            "Collecting protobuf>=3.6 (from google-vizier==0.1.11->tensorflow_federated)\n",
            "  Downloading protobuf-4.25.1-cp37-abi3-manylinux2014_x86_64.whl.metadata (541 bytes)\n",
            "Collecting grpcio~=1.46 (from tensorflow_federated)\n",
            "  Downloading grpcio-1.59.3-cp310-cp310-manylinux_2_17_x86_64.manylinux2014_x86_64.whl.metadata (4.0 kB)\n",
            "Requirement already satisfied: contourpy>=1.0.1 in /usr/local/lib/python3.10/dist-packages (from matplotlib~=3.3->tensorflow-privacy==0.8.12->tensorflow_federated) (1.2.0)\n",
            "Requirement already satisfied: cycler>=0.10 in /usr/local/lib/python3.10/dist-packages (from matplotlib~=3.3->tensorflow-privacy==0.8.12->tensorflow_federated) (0.12.1)\n",
            "Requirement already satisfied: fonttools>=4.22.0 in /usr/local/lib/python3.10/dist-packages (from matplotlib~=3.3->tensorflow-privacy==0.8.12->tensorflow_federated) (4.44.3)\n",
            "Requirement already satisfied: kiwisolver>=1.0.1 in /usr/local/lib/python3.10/dist-packages (from matplotlib~=3.3->tensorflow-privacy==0.8.12->tensorflow_federated) (1.4.5)\n",
            "Requirement already satisfied: pillow>=6.2.0 in /usr/local/lib/python3.10/dist-packages (from matplotlib~=3.3->tensorflow-privacy==0.8.12->tensorflow_federated) (9.4.0)\n",
            "Requirement already satisfied: pyparsing>=2.3.1 in /usr/local/lib/python3.10/dist-packages (from matplotlib~=3.3->tensorflow-privacy==0.8.12->tensorflow_federated) (3.1.1)\n",
            "Requirement already satisfied: python-dateutil>=2.7 in /usr/local/lib/python3.10/dist-packages (from matplotlib~=3.3->tensorflow-privacy==0.8.12->tensorflow_federated) (2.8.2)\n",
            "Requirement already satisfied: pytz>=2020.1 in /usr/local/lib/python3.10/dist-packages (from pandas~=1.4->tensorflow-privacy==0.8.12->tensorflow_federated) (2023.3.post1)\n",
            "Requirement already satisfied: greenlet!=0.4.17 in /usr/local/lib/python3.10/dist-packages (from sqlalchemy<=1.4.20,>=1.4->google-vizier==0.1.11->tensorflow_federated) (3.0.1)\n",
            "Requirement already satisfied: patsy>=0.5.2 in /usr/local/lib/python3.10/dist-packages (from statsmodels~=0.13->tensorflow-privacy==0.8.12->tensorflow_federated) (0.5.3)\n",
            "Requirement already satisfied: google-auth<3,>=1.6.3 in /usr/local/lib/python3.10/dist-packages (from tensorboard<2.15,>=2.14->tensorflow==2.14.*,>=2.14.0->tensorflow_federated) (2.17.3)\n",
            "Requirement already satisfied: google-auth-oauthlib<1.1,>=0.5 in /usr/local/lib/python3.10/dist-packages (from tensorboard<2.15,>=2.14->tensorflow==2.14.*,>=2.14.0->tensorflow_federated) (1.0.0)\n",
            "Requirement already satisfied: markdown>=2.6.8 in /usr/local/lib/python3.10/dist-packages (from tensorboard<2.15,>=2.14->tensorflow==2.14.*,>=2.14.0->tensorflow_federated) (3.5.1)\n",
            "Requirement already satisfied: requests<3,>=2.21.0 in /usr/local/lib/python3.10/dist-packages (from tensorboard<2.15,>=2.14->tensorflow==2.14.*,>=2.14.0->tensorflow_federated) (2.31.0)\n",
            "Requirement already satisfied: tensorboard-data-server<0.8.0,>=0.7.0 in /usr/local/lib/python3.10/dist-packages (from tensorboard<2.15,>=2.14->tensorflow==2.14.*,>=2.14.0->tensorflow_federated) (0.7.2)\n",
            "Requirement already satisfied: werkzeug>=1.0.1 in /usr/local/lib/python3.10/dist-packages (from tensorboard<2.15,>=2.14->tensorflow==2.14.*,>=2.14.0->tensorflow_federated) (3.0.1)\n",
            "Requirement already satisfied: decorator in /usr/local/lib/python3.10/dist-packages (from tensorflow-probability~=0.15->tensorflow-compression==2.14.*,>=2.14.0->tensorflow_federated) (4.4.2)\n",
            "Requirement already satisfied: cloudpickle>=1.3 in /usr/local/lib/python3.10/dist-packages (from tensorflow-probability~=0.15->tensorflow-compression==2.14.*,>=2.14.0->tensorflow_federated) (2.2.1)\n",
            "Requirement already satisfied: Cython in /usr/local/lib/python3.10/dist-packages (from tf-models-official~=2.13->tensorflow-privacy==0.8.12->tensorflow_federated) (3.0.5)\n",
            "Requirement already satisfied: gin-config in /usr/local/lib/python3.10/dist-packages (from tf-models-official~=2.13->tensorflow-privacy==0.8.12->tensorflow_federated) (0.5.0)\n",
            "Requirement already satisfied: google-api-python-client>=1.6.7 in /usr/local/lib/python3.10/dist-packages (from tf-models-official~=2.13->tensorflow-privacy==0.8.12->tensorflow_federated) (2.84.0)\n",
            "Requirement already satisfied: kaggle>=1.3.9 in /usr/local/lib/python3.10/dist-packages (from tf-models-official~=2.13->tensorflow-privacy==0.8.12->tensorflow_federated) (1.5.16)\n",
            "Requirement already satisfied: oauth2client in /usr/local/lib/python3.10/dist-packages (from tf-models-official~=2.13->tensorflow-privacy==0.8.12->tensorflow_federated) (4.1.3)\n",
            "Requirement already satisfied: opencv-python-headless in /usr/local/lib/python3.10/dist-packages (from tf-models-official~=2.13->tensorflow-privacy==0.8.12->tensorflow_federated) (4.8.1.78)\n",
            "Requirement already satisfied: py-cpuinfo>=3.3.0 in /usr/local/lib/python3.10/dist-packages (from tf-models-official~=2.13->tensorflow-privacy==0.8.12->tensorflow_federated) (9.0.0)\n",
            "Requirement already satisfied: pycocotools in /usr/local/lib/python3.10/dist-packages (from tf-models-official~=2.13->tensorflow-privacy==0.8.12->tensorflow_federated) (2.0.7)\n",
            "Requirement already satisfied: pyyaml>=6.0.0 in /usr/local/lib/python3.10/dist-packages (from tf-models-official~=2.13->tensorflow-privacy==0.8.12->tensorflow_federated) (6.0.1)\n",
            "Collecting sacrebleu (from tf-models-official~=2.13->tensorflow-privacy==0.8.12->tensorflow_federated)\n",
            "  Downloading sacrebleu-2.3.2-py3-none-any.whl.metadata (57 kB)\n",
            "\u001b[2K     \u001b[90m━━━━━━━━━━━━━━━━━━━━━━━━━━━━━━━━━━━━━━━━\u001b[0m \u001b[32m57.4/57.4 kB\u001b[0m \u001b[31m4.1 MB/s\u001b[0m eta \u001b[36m0:00:00\u001b[0m\n",
            "\u001b[?25hCollecting sentencepiece (from tf-models-official~=2.13->tensorflow-privacy==0.8.12->tensorflow_federated)\n",
            "  Downloading sentencepiece-0.1.99-cp310-cp310-manylinux_2_17_x86_64.manylinux2014_x86_64.whl (1.3 MB)\n",
            "\u001b[2K     \u001b[90m━━━━━━━━━━━━━━━━━━━━━━━━━━━━━━━━━━━━━━━━\u001b[0m \u001b[32m1.3/1.3 MB\u001b[0m \u001b[31m58.0 MB/s\u001b[0m eta \u001b[36m0:00:00\u001b[0m\n",
            "\u001b[?25hCollecting seqeval (from tf-models-official~=2.13->tensorflow-privacy==0.8.12->tensorflow_federated)\n",
            "  Downloading seqeval-1.2.2.tar.gz (43 kB)\n",
            "\u001b[2K     \u001b[90m━━━━━━━━━━━━━━━━━━━━━━━━━━━━━━━━━━━━━━━━\u001b[0m \u001b[32m43.6/43.6 kB\u001b[0m \u001b[31m2.5 MB/s\u001b[0m eta \u001b[36m0:00:00\u001b[0m\n",
            "\u001b[?25h  Preparing metadata (setup.py) ... \u001b[?25l\u001b[?25hdone\n",
            "Requirement already satisfied: tensorflow-datasets in /usr/local/lib/python3.10/dist-packages (from tf-models-official~=2.13->tensorflow-privacy==0.8.12->tensorflow_federated) (4.9.3)\n",
            "Requirement already satisfied: tensorflow-hub>=0.6.0 in /usr/local/lib/python3.10/dist-packages (from tf-models-official~=2.13->tensorflow-privacy==0.8.12->tensorflow_federated) (0.15.0)\n",
            "Collecting tensorflow-text~=2.15.0 (from tf-models-official~=2.13->tensorflow-privacy==0.8.12->tensorflow_federated)\n",
            "  Downloading tensorflow_text-2.15.0-cp310-cp310-manylinux_2_17_x86_64.manylinux2014_x86_64.whl.metadata (1.9 kB)\n",
            "INFO: pip is looking at multiple versions of tf-models-official to determine which version is compatible with other requirements. This could take a while.\n",
            "Collecting tf-models-official~=2.13 (from tensorflow-privacy==0.8.12->tensorflow_federated)\n",
            "  Downloading tf_models_official-2.14.2-py2.py3-none-any.whl.metadata (1.4 kB)\n",
            "Collecting tensorflow-text~=2.14.0 (from tf-models-official~=2.13->tensorflow-privacy==0.8.12->tensorflow_federated)\n",
            "  Downloading tensorflow_text-2.14.0-cp310-cp310-manylinux_2_17_x86_64.manylinux2014_x86_64.whl.metadata (1.9 kB)\n",
            "Requirement already satisfied: tf-slim>=1.1.0 in /usr/local/lib/python3.10/dist-packages (from tf-models-official~=2.13->tensorflow-privacy==0.8.12->tensorflow_federated) (1.1.0)\n",
            "Requirement already satisfied: httplib2<1dev,>=0.15.0 in /usr/local/lib/python3.10/dist-packages (from google-api-python-client>=1.6.7->tf-models-official~=2.13->tensorflow-privacy==0.8.12->tensorflow_federated) (0.22.0)\n",
            "Requirement already satisfied: google-auth-httplib2>=0.1.0 in /usr/local/lib/python3.10/dist-packages (from google-api-python-client>=1.6.7->tf-models-official~=2.13->tensorflow-privacy==0.8.12->tensorflow_federated) (0.1.1)\n",
            "Requirement already satisfied: google-api-core!=2.0.*,!=2.1.*,!=2.2.*,!=2.3.0,<3.0.0dev,>=1.31.5 in /usr/local/lib/python3.10/dist-packages (from google-api-python-client>=1.6.7->tf-models-official~=2.13->tensorflow-privacy==0.8.12->tensorflow_federated) (2.11.1)\n",
            "Requirement already satisfied: uritemplate<5,>=3.0.1 in /usr/local/lib/python3.10/dist-packages (from google-api-python-client>=1.6.7->tf-models-official~=2.13->tensorflow-privacy==0.8.12->tensorflow_federated) (4.1.1)\n",
            "Requirement already satisfied: pyasn1-modules>=0.2.1 in /usr/local/lib/python3.10/dist-packages (from google-auth<3,>=1.6.3->tensorboard<2.15,>=2.14->tensorflow==2.14.*,>=2.14.0->tensorflow_federated) (0.3.0)\n",
            "Requirement already satisfied: rsa<5,>=3.1.4 in /usr/local/lib/python3.10/dist-packages (from google-auth<3,>=1.6.3->tensorboard<2.15,>=2.14->tensorflow==2.14.*,>=2.14.0->tensorflow_federated) (4.9)\n",
            "Requirement already satisfied: requests-oauthlib>=0.7.0 in /usr/local/lib/python3.10/dist-packages (from google-auth-oauthlib<1.1,>=0.5->tensorboard<2.15,>=2.14->tensorflow==2.14.*,>=2.14.0->tensorflow_federated) (1.3.1)\n",
            "Requirement already satisfied: certifi in /usr/local/lib/python3.10/dist-packages (from kaggle>=1.3.9->tf-models-official~=2.13->tensorflow-privacy==0.8.12->tensorflow_federated) (2023.7.22)\n",
            "Requirement already satisfied: python-slugify in /usr/local/lib/python3.10/dist-packages (from kaggle>=1.3.9->tf-models-official~=2.13->tensorflow-privacy==0.8.12->tensorflow_federated) (8.0.1)\n",
            "Requirement already satisfied: urllib3 in /usr/local/lib/python3.10/dist-packages (from kaggle>=1.3.9->tf-models-official~=2.13->tensorflow-privacy==0.8.12->tensorflow_federated) (2.0.7)\n",
            "Requirement already satisfied: bleach in /usr/local/lib/python3.10/dist-packages (from kaggle>=1.3.9->tf-models-official~=2.13->tensorflow-privacy==0.8.12->tensorflow_federated) (6.1.0)\n",
            "Requirement already satisfied: charset-normalizer<4,>=2 in /usr/local/lib/python3.10/dist-packages (from requests<3,>=2.21.0->tensorboard<2.15,>=2.14->tensorflow==2.14.*,>=2.14.0->tensorflow_federated) (3.3.2)\n",
            "Requirement already satisfied: idna<4,>=2.5 in /usr/local/lib/python3.10/dist-packages (from requests<3,>=2.21.0->tensorboard<2.15,>=2.14->tensorflow==2.14.*,>=2.14.0->tensorflow_federated) (3.4)\n",
            "Requirement already satisfied: MarkupSafe>=2.1.1 in /usr/local/lib/python3.10/dist-packages (from werkzeug>=1.0.1->tensorboard<2.15,>=2.14->tensorflow==2.14.*,>=2.14.0->tensorflow_federated) (2.1.3)\n",
            "Requirement already satisfied: pyasn1>=0.1.7 in /usr/local/lib/python3.10/dist-packages (from oauth2client->tf-models-official~=2.13->tensorflow-privacy==0.8.12->tensorflow_federated) (0.5.0)\n",
            "Collecting portalocker (from sacrebleu->tf-models-official~=2.13->tensorflow-privacy==0.8.12->tensorflow_federated)\n",
            "  Downloading portalocker-2.8.2-py3-none-any.whl.metadata (8.5 kB)\n",
            "Requirement already satisfied: regex in /usr/local/lib/python3.10/dist-packages (from sacrebleu->tf-models-official~=2.13->tensorflow-privacy==0.8.12->tensorflow_federated) (2023.6.3)\n",
            "Requirement already satisfied: tabulate>=0.8.9 in /usr/local/lib/python3.10/dist-packages (from sacrebleu->tf-models-official~=2.13->tensorflow-privacy==0.8.12->tensorflow_federated) (0.9.0)\n",
            "Collecting colorama (from sacrebleu->tf-models-official~=2.13->tensorflow-privacy==0.8.12->tensorflow_federated)\n",
            "  Downloading colorama-0.4.6-py2.py3-none-any.whl (25 kB)\n",
            "Requirement already satisfied: lxml in /usr/local/lib/python3.10/dist-packages (from sacrebleu->tf-models-official~=2.13->tensorflow-privacy==0.8.12->tensorflow_federated) (4.9.3)\n",
            "Requirement already satisfied: array-record in /usr/local/lib/python3.10/dist-packages (from tensorflow-datasets->tf-models-official~=2.13->tensorflow-privacy==0.8.12->tensorflow_federated) (0.5.0)\n",
            "Requirement already satisfied: click in /usr/local/lib/python3.10/dist-packages (from tensorflow-datasets->tf-models-official~=2.13->tensorflow-privacy==0.8.12->tensorflow_federated) (8.1.7)\n",
            "Requirement already satisfied: etils>=0.9.0 in /usr/local/lib/python3.10/dist-packages (from etils[enp,epath,etree]>=0.9.0->tensorflow-datasets->tf-models-official~=2.13->tensorflow-privacy==0.8.12->tensorflow_federated) (1.5.2)\n",
            "Requirement already satisfied: promise in /usr/local/lib/python3.10/dist-packages (from tensorflow-datasets->tf-models-official~=2.13->tensorflow-privacy==0.8.12->tensorflow_federated) (2.3)\n",
            "Requirement already satisfied: tensorflow-metadata in /usr/local/lib/python3.10/dist-packages (from tensorflow-datasets->tf-models-official~=2.13->tensorflow-privacy==0.8.12->tensorflow_federated) (1.14.0)\n",
            "Requirement already satisfied: toml in /usr/local/lib/python3.10/dist-packages (from tensorflow-datasets->tf-models-official~=2.13->tensorflow-privacy==0.8.12->tensorflow_federated) (0.10.2)\n",
            "Requirement already satisfied: fsspec in /usr/local/lib/python3.10/dist-packages (from etils[enp,epath,etree]>=0.9.0->tensorflow-datasets->tf-models-official~=2.13->tensorflow-privacy==0.8.12->tensorflow_federated) (2023.6.0)\n",
            "Requirement already satisfied: importlib_resources in /usr/local/lib/python3.10/dist-packages (from etils[enp,epath,etree]>=0.9.0->tensorflow-datasets->tf-models-official~=2.13->tensorflow-privacy==0.8.12->tensorflow_federated) (6.1.1)\n",
            "Requirement already satisfied: zipp in /usr/local/lib/python3.10/dist-packages (from etils[enp,epath,etree]>=0.9.0->tensorflow-datasets->tf-models-official~=2.13->tensorflow-privacy==0.8.12->tensorflow_federated) (3.17.0)\n",
            "Requirement already satisfied: oauthlib>=3.0.0 in /usr/local/lib/python3.10/dist-packages (from requests-oauthlib>=0.7.0->google-auth-oauthlib<1.1,>=0.5->tensorboard<2.15,>=2.14->tensorflow==2.14.*,>=2.14.0->tensorflow_federated) (3.2.2)\n",
            "Requirement already satisfied: webencodings in /usr/local/lib/python3.10/dist-packages (from bleach->kaggle>=1.3.9->tf-models-official~=2.13->tensorflow-privacy==0.8.12->tensorflow_federated) (0.5.1)\n",
            "Requirement already satisfied: text-unidecode>=1.3 in /usr/local/lib/python3.10/dist-packages (from python-slugify->kaggle>=1.3.9->tf-models-official~=2.13->tensorflow-privacy==0.8.12->tensorflow_federated) (1.3)\n",
            "INFO: pip is looking at multiple versions of tensorflow-metadata to determine which version is compatible with other requirements. This could take a while.\n",
            "Collecting tensorflow-metadata (from tensorflow-datasets->tf-models-official~=2.13->tensorflow-privacy==0.8.12->tensorflow_federated)\n",
            "  Downloading tensorflow_metadata-1.13.1-py3-none-any.whl (28 kB)\n",
            "Downloading tensorflow_federated-0.65.0-py3-none-manylinux_2_31_x86_64.whl (70.6 MB)\n",
            "\u001b[2K   \u001b[90m━━━━━━━━━━━━━━━━━━━━━━━━━━━━━━━━━━━━━━━━\u001b[0m \u001b[32m70.6/70.6 MB\u001b[0m \u001b[31m11.5 MB/s\u001b[0m eta \u001b[36m0:00:00\u001b[0m\n",
            "\u001b[?25hDownloading dp_accounting-0.4.3-py3-none-any.whl (104 kB)\n",
            "\u001b[2K   \u001b[90m━━━━━━━━━━━━━━━━━━━━━━━━━━━━━━━━━━━━━━━━\u001b[0m \u001b[32m104.8/104.8 kB\u001b[0m \u001b[31m7.2 MB/s\u001b[0m eta \u001b[36m0:00:00\u001b[0m\n",
            "\u001b[?25hDownloading google_vizier-0.1.11-py3-none-any.whl (721 kB)\n",
            "\u001b[2K   \u001b[90m━━━━━━━━━━━━━━━━━━━━━━━━━━━━━━━━━━━━━━━━\u001b[0m \u001b[32m721.6/721.6 kB\u001b[0m \u001b[31m37.0 MB/s\u001b[0m eta \u001b[36m0:00:00\u001b[0m\n",
            "\u001b[?25hDownloading jaxlib-0.4.14-cp310-cp310-manylinux2014_x86_64.whl (73.7 MB)\n",
            "\u001b[2K   \u001b[90m━━━━━━━━━━━━━━━━━━━━━━━━━━━━━━━━━━━━━━━━\u001b[0m \u001b[32m73.7/73.7 MB\u001b[0m \u001b[31m10.3 MB/s\u001b[0m eta \u001b[36m0:00:00\u001b[0m\n",
            "\u001b[?25hDownloading tensorflow_compression-2.14.0-cp310-cp310-manylinux_2_17_x86_64.manylinux2014_x86_64.whl (257 kB)\n",
            "\u001b[2K   \u001b[90m━━━━━━━━━━━━━━━━━━━━━━━━━━━━━━━━━━━━━━━━\u001b[0m \u001b[32m257.7/257.7 kB\u001b[0m \u001b[31m13.0 MB/s\u001b[0m eta \u001b[36m0:00:00\u001b[0m\n",
            "\u001b[?25hDownloading tensorflow_model_optimization-0.7.5-py2.py3-none-any.whl (241 kB)\n",
            "\u001b[2K   \u001b[90m━━━━━━━━━━━━━━━━━━━━━━━━━━━━━━━━━━━━━━━━\u001b[0m \u001b[32m241.2/241.2 kB\u001b[0m \u001b[31m16.4 MB/s\u001b[0m eta \u001b[36m0:00:00\u001b[0m\n",
            "\u001b[?25hDownloading tensorflow_privacy-0.8.12-py3-none-any.whl (405 kB)\n",
            "\u001b[2K   \u001b[90m━━━━━━━━━━━━━━━━━━━━━━━━━━━━━━━━━━━━━━━━\u001b[0m \u001b[32m405.5/405.5 kB\u001b[0m \u001b[31m25.2 MB/s\u001b[0m eta \u001b[36m0:00:00\u001b[0m\n",
            "\u001b[?25hDownloading portpicker-1.6.0-py3-none-any.whl (16 kB)\n",
            "Downloading numpy-1.25.2-cp310-cp310-manylinux_2_17_x86_64.manylinux2014_x86_64.whl (18.2 MB)\n",
            "\u001b[2K   \u001b[90m━━━━━━━━━━━━━━━━━━━━━━━━━━━━━━━━━━━━━━━━\u001b[0m \u001b[32m18.2/18.2 MB\u001b[0m \u001b[31m75.2 MB/s\u001b[0m eta \u001b[36m0:00:00\u001b[0m\n",
            "\u001b[?25hDownloading grpcio_tools-1.59.3-cp310-cp310-manylinux_2_17_x86_64.manylinux2014_x86_64.whl (2.7 MB)\n",
            "\u001b[2K   \u001b[90m━━━━━━━━━━━━━━━━━━━━━━━━━━━━━━━━━━━━━━━━\u001b[0m \u001b[32m2.7/2.7 MB\u001b[0m \u001b[31m59.4 MB/s\u001b[0m eta \u001b[36m0:00:00\u001b[0m\n",
            "\u001b[?25hDownloading grpcio-1.59.3-cp310-cp310-manylinux_2_17_x86_64.manylinux2014_x86_64.whl (5.3 MB)\n",
            "\u001b[2K   \u001b[90m━━━━━━━━━━━━━━━━━━━━━━━━━━━━━━━━━━━━━━━━\u001b[0m \u001b[32m5.3/5.3 MB\u001b[0m \u001b[31m88.6 MB/s\u001b[0m eta \u001b[36m0:00:00\u001b[0m\n",
            "\u001b[?25hDownloading immutabledict-2.2.5-py3-none-any.whl (4.1 kB)\n",
            "Downloading protobuf-4.25.1-cp37-abi3-manylinux2014_x86_64.whl (294 kB)\n",
            "\u001b[2K   \u001b[90m━━━━━━━━━━━━━━━━━━━━━━━━━━━━━━━━━━━━━━━━\u001b[0m \u001b[32m294.6/294.6 kB\u001b[0m \u001b[31m19.7 MB/s\u001b[0m eta \u001b[36m0:00:00\u001b[0m\n",
            "\u001b[?25hDownloading tf_models_official-2.14.2-py2.py3-none-any.whl (2.7 MB)\n",
            "\u001b[2K   \u001b[90m━━━━━━━━━━━━━━━━━━━━━━━━━━━━━━━━━━━━━━━━\u001b[0m \u001b[32m2.7/2.7 MB\u001b[0m \u001b[31m70.8 MB/s\u001b[0m eta \u001b[36m0:00:00\u001b[0m\n",
            "\u001b[?25hDownloading tensorflow_text-2.14.0-cp310-cp310-manylinux_2_17_x86_64.manylinux2014_x86_64.whl (6.5 MB)\n",
            "\u001b[2K   \u001b[90m━━━━━━━━━━━━━━━━━━━━━━━━━━━━━━━━━━━━━━━━\u001b[0m \u001b[32m6.5/6.5 MB\u001b[0m \u001b[31m71.1 MB/s\u001b[0m eta \u001b[36m0:00:00\u001b[0m\n",
            "\u001b[?25hDownloading sacrebleu-2.3.2-py3-none-any.whl (119 kB)\n",
            "\u001b[2K   \u001b[90m━━━━━━━━━━━━━━━━━━━━━━━━━━━━━━━━━━━━━━━━\u001b[0m \u001b[32m119.7/119.7 kB\u001b[0m \u001b[31m8.6 MB/s\u001b[0m eta \u001b[36m0:00:00\u001b[0m\n",
            "\u001b[?25hDownloading portalocker-2.8.2-py3-none-any.whl (17 kB)\n",
            "Building wheels for collected packages: farmhashpy, jax, sqlalchemy, seqeval\n",
            "  Building wheel for farmhashpy (setup.py) ... \u001b[?25l\u001b[?25hdone\n",
            "  Created wheel for farmhashpy: filename=farmhashpy-0.4.0-cp310-cp310-linux_x86_64.whl size=87303 sha256=32618c5f7fccce06aeb098f2e2e0b4b2092b14bd2467052458bb9a4183d7f1c9\n",
            "  Stored in directory: /root/.cache/pip/wheels/14/0e/36/b61b3f47ae366b7d5dd2b746326d17234269dbc745ad554857\n",
            "  Building wheel for jax (pyproject.toml) ... \u001b[?25l\u001b[?25hdone\n",
            "  Created wheel for jax: filename=jax-0.4.14-py3-none-any.whl size=1535363 sha256=125063ca88b0d05e40a402a57a9269355e7f850d2557cd9aacdde71010599151\n",
            "  Stored in directory: /root/.cache/pip/wheels/85/52/e7/dfa571c9f9b879e3facaa1584f52be04c4c3d1e14054ef40ab\n",
            "  Building wheel for sqlalchemy (setup.py) ... \u001b[?25l\u001b[?25hdone\n",
            "  Created wheel for sqlalchemy: filename=SQLAlchemy-1.4.20-cp310-cp310-linux_x86_64.whl size=1529863 sha256=8cb2bbcff730948477f371216e6aaac7cedbb7168cb77939560a118f5819f7d8\n",
            "  Stored in directory: /root/.cache/pip/wheels/c4/42/20/a958989c470cc1a6fe1d1279b0193f0e508161327fc3d951d9\n",
            "  Building wheel for seqeval (setup.py) ... \u001b[?25l\u001b[?25hdone\n",
            "  Created wheel for seqeval: filename=seqeval-1.2.2-py3-none-any.whl size=16161 sha256=a513acb37b4171c643c628bd2458a089dfb1f5c1d28b1ead41966c6b7bdad72b\n",
            "  Stored in directory: /root/.cache/pip/wheels/1a/67/4a/ad4082dd7dfc30f2abfe4d80a2ed5926a506eb8a972b4767fa\n",
            "Successfully built farmhashpy jax sqlalchemy seqeval\n",
            "Installing collected packages: sentencepiece, typing-extensions, sqlalchemy, semantic-version, protobuf, portpicker, portalocker, packaging, numpy, immutabledict, grpcio, farmhashpy, colorama, tensorflow-model-optimization, scipy, sacrebleu, grpcio-tools, tensorflow-metadata, jaxlib, jax, google-vizier, dp-accounting, seqeval, tensorflow-text, tensorflow-compression, tf-models-official, tensorflow-privacy, tensorflow_federated\n",
            "  Attempting uninstall: typing-extensions\n",
            "    Found existing installation: typing_extensions 4.8.0\n",
            "    Uninstalling typing_extensions-4.8.0:\n",
            "      Successfully uninstalled typing_extensions-4.8.0\n",
            "  Attempting uninstall: sqlalchemy\n",
            "    Found existing installation: SQLAlchemy 2.0.0\n",
            "    Uninstalling SQLAlchemy-2.0.0:\n",
            "      Successfully uninstalled SQLAlchemy-2.0.0\n",
            "  Attempting uninstall: protobuf\n",
            "    Found existing installation: protobuf 3.20.3\n",
            "    Uninstalling protobuf-3.20.3:\n",
            "      Successfully uninstalled protobuf-3.20.3\n",
            "  Attempting uninstall: portpicker\n",
            "    Found existing installation: portpicker 1.5.2\n",
            "    Uninstalling portpicker-1.5.2:\n",
            "      Successfully uninstalled portpicker-1.5.2\n",
            "  Attempting uninstall: packaging\n",
            "    Found existing installation: packaging 23.2\n",
            "    Uninstalling packaging-23.2:\n",
            "      Successfully uninstalled packaging-23.2\n",
            "  Attempting uninstall: numpy\n",
            "    Found existing installation: numpy 1.23.0\n",
            "    Uninstalling numpy-1.23.0:\n",
            "      Successfully uninstalled numpy-1.23.0\n",
            "  Attempting uninstall: grpcio\n",
            "    Found existing installation: grpcio 1.59.2\n",
            "    Uninstalling grpcio-1.59.2:\n",
            "      Successfully uninstalled grpcio-1.59.2\n",
            "  Attempting uninstall: scipy\n",
            "    Found existing installation: scipy 1.11.3\n",
            "    Uninstalling scipy-1.11.3:\n",
            "      Successfully uninstalled scipy-1.11.3\n",
            "  Attempting uninstall: tensorflow-metadata\n",
            "    Found existing installation: tensorflow-metadata 1.14.0\n",
            "    Uninstalling tensorflow-metadata-1.14.0:\n",
            "      Successfully uninstalled tensorflow-metadata-1.14.0\n",
            "  Attempting uninstall: jaxlib\n",
            "    Found existing installation: jaxlib 0.4.20+cuda11.cudnn86\n",
            "    Uninstalling jaxlib-0.4.20+cuda11.cudnn86:\n",
            "      Successfully uninstalled jaxlib-0.4.20+cuda11.cudnn86\n",
            "  Attempting uninstall: jax\n",
            "    Found existing installation: jax 0.4.20\n",
            "    Uninstalling jax-0.4.20:\n",
            "      Successfully uninstalled jax-0.4.20\n",
            "\u001b[31mERROR: pip's dependency resolver does not currently take into account all the packages that are installed. This behaviour is the source of the following dependency conflicts.\n",
            "fastapi 0.104.1 requires typing-extensions>=4.8.0, but you have typing-extensions 4.5.0 which is incompatible.\n",
            "flax 0.7.5 requires jax>=0.4.19, but you have jax 0.4.14 which is incompatible.\n",
            "google-colab 1.0.0 requires portpicker==1.5.2, but you have portpicker 1.6.0 which is incompatible.\n",
            "ipython-sql 0.5.0 requires sqlalchemy>=2.0, but you have sqlalchemy 1.4.20 which is incompatible.\u001b[0m\u001b[31m\n",
            "\u001b[0mSuccessfully installed colorama-0.4.6 dp-accounting-0.4.3 farmhashpy-0.4.0 google-vizier-0.1.11 grpcio-1.59.3 grpcio-tools-1.59.3 immutabledict-2.2.5 jax-0.4.14 jaxlib-0.4.14 numpy-1.25.2 packaging-22.0 portalocker-2.8.2 portpicker-1.6.0 protobuf-4.25.1 sacrebleu-2.3.2 scipy-1.9.3 semantic-version-2.10.0 sentencepiece-0.1.99 seqeval-1.2.2 sqlalchemy-1.4.20 tensorflow-compression-2.14.0 tensorflow-metadata-1.13.1 tensorflow-model-optimization-0.7.5 tensorflow-privacy-0.8.12 tensorflow-text-2.14.0 tensorflow_federated-0.65.0 tf-models-official-2.14.2 typing-extensions-4.5.0\n",
            "\u001b[33mWARNING: Running pip as the 'root' user can result in broken permissions and conflicting behaviour with the system package manager. It is recommended to use a virtual environment instead: https://pip.pypa.io/warnings/venv\u001b[0m\u001b[33m\n",
            "\u001b[0m"
          ]
        },
        {
          "output_type": "display_data",
          "data": {
            "application/vnd.colab-display-data+json": {
              "pip_warning": {
                "packages": [
                  "numpy",
                  "portpicker"
                ]
              }
            }
          },
          "metadata": {}
        }
      ]
    },
    {
      "cell_type": "code",
      "source": [
        "!pip install tensorflow"
      ],
      "metadata": {
        "colab": {
          "base_uri": "https://localhost:8080/"
        },
        "id": "C3LKHttCic_a",
        "outputId": "11d14f37-2e5e-4dbb-e7ca-e2f73fc07aba"
      },
      "execution_count": 1,
      "outputs": [
        {
          "output_type": "stream",
          "name": "stdout",
          "text": [
            "Requirement already satisfied: tensorflow in /usr/local/lib/python3.10/dist-packages (2.14.0)\n",
            "Requirement already satisfied: absl-py>=1.0.0 in /usr/local/lib/python3.10/dist-packages (from tensorflow) (1.4.0)\n",
            "Requirement already satisfied: astunparse>=1.6.0 in /usr/local/lib/python3.10/dist-packages (from tensorflow) (1.6.3)\n",
            "Requirement already satisfied: flatbuffers>=23.5.26 in /usr/local/lib/python3.10/dist-packages (from tensorflow) (23.5.26)\n",
            "Requirement already satisfied: gast!=0.5.0,!=0.5.1,!=0.5.2,>=0.2.1 in /usr/local/lib/python3.10/dist-packages (from tensorflow) (0.5.4)\n",
            "Requirement already satisfied: google-pasta>=0.1.1 in /usr/local/lib/python3.10/dist-packages (from tensorflow) (0.2.0)\n",
            "Requirement already satisfied: h5py>=2.9.0 in /usr/local/lib/python3.10/dist-packages (from tensorflow) (3.9.0)\n",
            "Requirement already satisfied: libclang>=13.0.0 in /usr/local/lib/python3.10/dist-packages (from tensorflow) (16.0.6)\n",
            "Requirement already satisfied: ml-dtypes==0.2.0 in /usr/local/lib/python3.10/dist-packages (from tensorflow) (0.2.0)\n",
            "Requirement already satisfied: numpy>=1.23.5 in /usr/local/lib/python3.10/dist-packages (from tensorflow) (1.25.2)\n",
            "Requirement already satisfied: opt-einsum>=2.3.2 in /usr/local/lib/python3.10/dist-packages (from tensorflow) (3.3.0)\n",
            "Requirement already satisfied: packaging in /usr/local/lib/python3.10/dist-packages (from tensorflow) (22.0)\n",
            "Requirement already satisfied: protobuf!=4.21.0,!=4.21.1,!=4.21.2,!=4.21.3,!=4.21.4,!=4.21.5,<5.0.0dev,>=3.20.3 in /usr/local/lib/python3.10/dist-packages (from tensorflow) (4.25.1)\n",
            "Requirement already satisfied: setuptools in /usr/local/lib/python3.10/dist-packages (from tensorflow) (69.0.2)\n",
            "Requirement already satisfied: six>=1.12.0 in /usr/local/lib/python3.10/dist-packages (from tensorflow) (1.16.0)\n",
            "Requirement already satisfied: termcolor>=1.1.0 in /usr/local/lib/python3.10/dist-packages (from tensorflow) (2.3.0)\n",
            "Requirement already satisfied: typing-extensions>=3.6.6 in /usr/local/lib/python3.10/dist-packages (from tensorflow) (4.5.0)\n",
            "Requirement already satisfied: wrapt<1.15,>=1.11.0 in /usr/local/lib/python3.10/dist-packages (from tensorflow) (1.14.1)\n",
            "Requirement already satisfied: tensorflow-io-gcs-filesystem>=0.23.1 in /usr/local/lib/python3.10/dist-packages (from tensorflow) (0.34.0)\n",
            "Requirement already satisfied: grpcio<2.0,>=1.24.3 in /usr/local/lib/python3.10/dist-packages (from tensorflow) (1.59.3)\n",
            "Requirement already satisfied: tensorboard<2.15,>=2.14 in /usr/local/lib/python3.10/dist-packages (from tensorflow) (2.14.1)\n",
            "Requirement already satisfied: tensorflow-estimator<2.15,>=2.14.0 in /usr/local/lib/python3.10/dist-packages (from tensorflow) (2.14.0)\n",
            "Requirement already satisfied: keras<2.15,>=2.14.0 in /usr/local/lib/python3.10/dist-packages (from tensorflow) (2.14.0)\n",
            "Requirement already satisfied: wheel<1.0,>=0.23.0 in /usr/local/lib/python3.10/dist-packages (from astunparse>=1.6.0->tensorflow) (0.41.3)\n",
            "Requirement already satisfied: google-auth<3,>=1.6.3 in /usr/local/lib/python3.10/dist-packages (from tensorboard<2.15,>=2.14->tensorflow) (2.17.3)\n",
            "Requirement already satisfied: google-auth-oauthlib<1.1,>=0.5 in /usr/local/lib/python3.10/dist-packages (from tensorboard<2.15,>=2.14->tensorflow) (1.0.0)\n",
            "Requirement already satisfied: markdown>=2.6.8 in /usr/local/lib/python3.10/dist-packages (from tensorboard<2.15,>=2.14->tensorflow) (3.5.1)\n",
            "Requirement already satisfied: requests<3,>=2.21.0 in /usr/local/lib/python3.10/dist-packages (from tensorboard<2.15,>=2.14->tensorflow) (2.31.0)\n",
            "Requirement already satisfied: tensorboard-data-server<0.8.0,>=0.7.0 in /usr/local/lib/python3.10/dist-packages (from tensorboard<2.15,>=2.14->tensorflow) (0.7.2)\n",
            "Requirement already satisfied: werkzeug>=1.0.1 in /usr/local/lib/python3.10/dist-packages (from tensorboard<2.15,>=2.14->tensorflow) (3.0.1)\n",
            "Requirement already satisfied: cachetools<6.0,>=2.0.0 in /usr/local/lib/python3.10/dist-packages (from google-auth<3,>=1.6.3->tensorboard<2.15,>=2.14->tensorflow) (5.3.2)\n",
            "Requirement already satisfied: pyasn1-modules>=0.2.1 in /usr/local/lib/python3.10/dist-packages (from google-auth<3,>=1.6.3->tensorboard<2.15,>=2.14->tensorflow) (0.3.0)\n",
            "Requirement already satisfied: rsa<5,>=3.1.4 in /usr/local/lib/python3.10/dist-packages (from google-auth<3,>=1.6.3->tensorboard<2.15,>=2.14->tensorflow) (4.9)\n",
            "Requirement already satisfied: requests-oauthlib>=0.7.0 in /usr/local/lib/python3.10/dist-packages (from google-auth-oauthlib<1.1,>=0.5->tensorboard<2.15,>=2.14->tensorflow) (1.3.1)\n",
            "Requirement already satisfied: charset-normalizer<4,>=2 in /usr/local/lib/python3.10/dist-packages (from requests<3,>=2.21.0->tensorboard<2.15,>=2.14->tensorflow) (3.3.2)\n",
            "Requirement already satisfied: idna<4,>=2.5 in /usr/local/lib/python3.10/dist-packages (from requests<3,>=2.21.0->tensorboard<2.15,>=2.14->tensorflow) (3.4)\n",
            "Requirement already satisfied: urllib3<3,>=1.21.1 in /usr/local/lib/python3.10/dist-packages (from requests<3,>=2.21.0->tensorboard<2.15,>=2.14->tensorflow) (2.0.7)\n",
            "Requirement already satisfied: certifi>=2017.4.17 in /usr/local/lib/python3.10/dist-packages (from requests<3,>=2.21.0->tensorboard<2.15,>=2.14->tensorflow) (2023.7.22)\n",
            "Requirement already satisfied: MarkupSafe>=2.1.1 in /usr/local/lib/python3.10/dist-packages (from werkzeug>=1.0.1->tensorboard<2.15,>=2.14->tensorflow) (2.1.3)\n",
            "Requirement already satisfied: pyasn1<0.6.0,>=0.4.6 in /usr/local/lib/python3.10/dist-packages (from pyasn1-modules>=0.2.1->google-auth<3,>=1.6.3->tensorboard<2.15,>=2.14->tensorflow) (0.5.0)\n",
            "Requirement already satisfied: oauthlib>=3.0.0 in /usr/local/lib/python3.10/dist-packages (from requests-oauthlib>=0.7.0->google-auth-oauthlib<1.1,>=0.5->tensorboard<2.15,>=2.14->tensorflow) (3.2.2)\n",
            "\u001b[33mWARNING: Running pip as the 'root' user can result in broken permissions and conflicting behaviour with the system package manager. It is recommended to use a virtual environment instead: https://pip.pypa.io/warnings/venv\u001b[0m\u001b[33m\n",
            "\u001b[0m"
          ]
        }
      ]
    },
    {
      "cell_type": "markdown",
      "source": [
        "# Import"
      ],
      "metadata": {
        "id": "H1I07Mh52VWV"
      }
    },
    {
      "cell_type": "code",
      "source": [
        "from google.colab import drive\n",
        "drive.mount('/content/drive')"
      ],
      "metadata": {
        "colab": {
          "base_uri": "https://localhost:8080/"
        },
        "id": "PSp-pXJfk2-j",
        "outputId": "c2248935-7d5b-4384-e6c2-25f4903a08e3"
      },
      "execution_count": 2,
      "outputs": [
        {
          "output_type": "stream",
          "name": "stdout",
          "text": [
            "Mounted at /content/drive\n"
          ]
        }
      ]
    },
    {
      "cell_type": "code",
      "source": [
        "import tensorflow as tf\n",
        "import tensorflow_federated as tff\n",
        "\n",
        "print(tf.__version__)\n",
        "print(tff.__version__)"
      ],
      "metadata": {
        "colab": {
          "base_uri": "https://localhost:8080/"
        },
        "id": "WdqICBfE4Q22",
        "outputId": "20ca647b-8ff0-4663-d1b1-bfb60fc55ba9"
      },
      "execution_count": 3,
      "outputs": [
        {
          "output_type": "stream",
          "name": "stdout",
          "text": [
            "2.14.0\n",
            "0.65.0\n"
          ]
        }
      ]
    },
    {
      "cell_type": "code",
      "source": [
        "import pandas as pd\n",
        "print(pd.__version__)"
      ],
      "metadata": {
        "colab": {
          "base_uri": "https://localhost:8080/"
        },
        "id": "I_-x8cgkZkmQ",
        "outputId": "88e57219-3a84-4e80-eb56-7b5f89e632f7"
      },
      "execution_count": 4,
      "outputs": [
        {
          "output_type": "stream",
          "name": "stdout",
          "text": [
            "1.5.3\n"
          ]
        }
      ]
    },
    {
      "cell_type": "code",
      "source": [
        "import collections"
      ],
      "metadata": {
        "id": "eeq04TeGt20p"
      },
      "execution_count": 5,
      "outputs": []
    },
    {
      "cell_type": "code",
      "source": [
        "import numpy as np"
      ],
      "metadata": {
        "id": "yxUt4akdaV3f"
      },
      "execution_count": 6,
      "outputs": []
    },
    {
      "cell_type": "code",
      "source": [
        "from sklearn.preprocessing import StandardScaler"
      ],
      "metadata": {
        "id": "6wt1HCnksg2x"
      },
      "execution_count": 7,
      "outputs": []
    },
    {
      "cell_type": "markdown",
      "source": [
        "\n",
        "\n",
        "# FL with dense layers MLP\n"
      ],
      "metadata": {
        "id": "vdmwExNboSIn"
      }
    },
    {
      "cell_type": "markdown",
      "source": [
        "## Posion data Scanrios"
      ],
      "metadata": {
        "id": "ky4BCoNl1JGx"
      }
    },
    {
      "cell_type": "code",
      "source": [
        "def poison_data_1(train, percent):\n",
        "    \"\"\"\n",
        "    Poison the training data by modifying the labels of a certain percentage of randomly selected rows.\n",
        "\n",
        "    Parameters:\n",
        "    - train: DataFrame, the original training data\n",
        "    - percent: float, the percentage of data to poison\n",
        "\n",
        "    Returns:\n",
        "    - DataFrame, poisoned or original training data\n",
        "    \"\"\"\n",
        "\n",
        "    # Print the poison percentage\n",
        "    print(\"Poison percentage {}\".format(percent))\n",
        "\n",
        "    if percent == 0:\n",
        "        # If the poison percentage is 0, return the original training data without modifications\n",
        "        return train\n",
        "    else:\n",
        "        # Randomly select a fraction of rows to poison\n",
        "        poisoned_rows = train.sample(frac=percent)\n",
        "\n",
        "        # Modify labels of selected rows: changing label 1, label 2, and label 3 to label 4\n",
        "        poisoned_rows.loc[poisoned_rows.Label.isin([1, 2, 3]), \"Label\"] = 4\n",
        "\n",
        "        # Combine the poisoned rows with the original data (excluding the poisoned rows)\n",
        "        non_poisoned_rows = train[~train.index.isin(poisoned_rows.index)]\n",
        "        poisoned_data = pd.concat([non_poisoned_rows, poisoned_rows])\n",
        "\n",
        "        # Shuffle the rows of the combined DataFrame\n",
        "        poisoned_data = poisoned_data.sample(frac=1).reset_index(drop=True)\n",
        "\n",
        "        return poisoned_data"
      ],
      "metadata": {
        "id": "7aZRgO_90lwX"
      },
      "execution_count": 8,
      "outputs": []
    },
    {
      "cell_type": "code",
      "source": [
        "def poison_data_2(train, percent):\n",
        "    \"\"\"\n",
        "    Poison the training data by modifying the labels of a certain percentage of randomly selected rows.\n",
        "\n",
        "    Parameters:\n",
        "    - train: DataFrame, the original training data\n",
        "    - percent: float, the percentage of data to poison\n",
        "\n",
        "    Returns:\n",
        "    - DataFrame, poisoned or original training data\n",
        "    \"\"\"\n",
        "\n",
        "    # Print the poison percentage\n",
        "    print(\"Poison percentage {}\".format(percent))\n",
        "\n",
        "    if percent == 0:\n",
        "        # If the poison percentage is 0, return the original training data without modifications\n",
        "        return train\n",
        "    else:\n",
        "        # Randomly select a fraction of rows to poison\n",
        "        poisoned_rows = train.sample(frac=percent)\n",
        "\n",
        "        # Modify labels of selected rows: changing label 1 to 4, label 2 to 3, label 3 to 4, and label 4 to 1\n",
        "        poisoned_rows.loc[poisoned_rows.Label == 1, \"Label\"] = 4\n",
        "        poisoned_rows.loc[poisoned_rows.Label == 2, \"Label\"] = 3\n",
        "        poisoned_rows.loc[poisoned_rows.Label == 3, \"Label\"] = 4\n",
        "        poisoned_rows.loc[poisoned_rows.Label == 4, \"Label\"] = 1\n",
        "\n",
        "        # Combine the poisoned rows with the original data (excluding the poisoned rows)\n",
        "        non_poisoned_rows = train[~train.index.isin(poisoned_rows.index)]\n",
        "        poisoned_data = pd.concat([non_poisoned_rows, poisoned_rows])\n",
        "\n",
        "        # Shuffle the rows of the combined DataFrame\n",
        "        poisoned_data = poisoned_data.sample(frac=1).reset_index(drop=True)\n",
        "\n",
        "        return poisoned_data\n"
      ],
      "metadata": {
        "id": "bZ7EUTXX0q0r"
      },
      "execution_count": 9,
      "outputs": []
    },
    {
      "cell_type": "markdown",
      "source": [
        "## Train Group ALL- Scenario 1"
      ],
      "metadata": {
        "id": "O_4YZAnvJ6db"
      }
    },
    {
      "cell_type": "code",
      "source": [
        "def load_data(client_id):\n",
        "    file_path = f'/content/drive/MyDrive/New_GAN/newGan{client_id + 1}.csv'\n",
        "    df = pd.read_csv(file_path)\n",
        "\n",
        "    df = poison_data_1(df, percent=0.25)\n",
        "\n",
        "    features = df.drop('Label', axis=1).values\n",
        "    labels = df['Label'].values.reshape(-1, 1)  # Ensure 'labels' has shape (None, 1)\n",
        "\n",
        "    # Modify labels as specified\n",
        "    modified_labels = labels - 1  # Subtract 1 from each label\n",
        "\n",
        "    # Normalize features using StandardScaler\n",
        "    #scaler = StandardScaler()\n",
        "    features_normalized = features #scaler.fit_transform(features)\n",
        "\n",
        "    # Concatenate normalized features and modified labels using np.hstack\n",
        "    training_data = np.hstack((features_normalized, modified_labels))\n",
        "\n",
        "    # Create a new DataFrame if needed\n",
        "    columns = df.drop('Label', axis=1).columns.tolist() + ['Label']\n",
        "    training_data_df = pd.DataFrame(training_data, columns=columns)\n",
        "\n",
        "    # Convert DataFrame to tf.data.Dataset\n",
        "    training_data_tf_dataset = tf.data.Dataset.from_tensor_slices({\n",
        "        'features': training_data_df.drop('Label', axis=1).values.tolist(),\n",
        "        'labels': training_data_df['Label'].values.tolist(),\n",
        "    })\n",
        "\n",
        "    return training_data_tf_dataset\n",
        "\n",
        "\n",
        "def create_train_simulation(client_id_sim):\n",
        "  tff_data = tff.simulation.datasets.ClientData.from_clients_and_tf_fn(\n",
        "    client_ids=['client_0', 'client_1', 'client_2'],\n",
        "    serializable_dataset_fn=lambda client_id: load_data(client_id_sim),)\n",
        "  return tff_data\n",
        "\n",
        "\n",
        "def client_data(client_id_sim):\n",
        "  tff_data = create_train_simulation(client_id_sim)\n",
        "  return tff_data.create_tf_dataset_for_client(f'client_{client_id_sim}').map(\n",
        "      lambda e: (tf.reshape(e['features'], [-1]), e['labels'])\n",
        "  ).repeat(10).batch(20)\n",
        "\n",
        "\n",
        "# Pick a subset of client devices to participate in training.\n",
        "train_data = [client_data(n) for n in range(3)]\n",
        "\n",
        "\n",
        "\n",
        "def model_fn():\n",
        "    model = tf.keras.models.Sequential([\n",
        "        tf.keras.layers.Input(shape=(25,)),\n",
        "        tf.keras.layers.Dense(256, activation=tf.nn.relu),\n",
        "        tf.keras.layers.GroupNormalization(),  # Replace GroupNormalization with BatchNormalization\n",
        "        tf.keras.layers.Dropout(0.5),\n",
        "        tf.keras.layers.Dense(16, activation=tf.nn.relu),  # Decrease the number of units in this layer\n",
        "        tf.keras.layers.Dense(4, activation=tf.nn.softmax),\n",
        "    ])\n",
        "\n",
        "    # Use L2 regularization on the dense layers\n",
        "    for layer in model.layers:\n",
        "        if isinstance(layer, tf.keras.layers.Dense):\n",
        "            layer.kernel_regularizer = tf.keras.regularizers.l2(0.01)\n",
        "\n",
        "    element_spec = train_data[0].element_spec\n",
        "    print(\"Element Spec:\", element_spec)\n",
        "\n",
        "    return tff.learning.models.from_keras_model(\n",
        "        model,\n",
        "        input_spec=train_data[0].element_spec,\n",
        "        loss=tf.keras.losses.SparseCategoricalCrossentropy(),\n",
        "        metrics=[tf.keras.metrics.SparseCategoricalAccuracy()])"
      ],
      "metadata": {
        "id": "YqMad_PqJ6dk",
        "colab": {
          "base_uri": "https://localhost:8080/"
        },
        "outputId": "7f88b05e-7dc7-476b-9555-4ce389e32f80"
      },
      "execution_count": 10,
      "outputs": [
        {
          "output_type": "stream",
          "name": "stdout",
          "text": [
            "Poison percentage 0.25\n",
            "Poison percentage 0.25\n",
            "Poison percentage 0.25\n",
            "Poison percentage 0.25\n",
            "Poison percentage 0.25\n",
            "Poison percentage 0.25\n"
          ]
        }
      ]
    },
    {
      "cell_type": "code",
      "source": [
        "# Define the federated algorithm (Federated Averaging)\n",
        "# Compression is innermost because its pre-aggregation effects are last.\n",
        "mean = tff.aggregators.MeanFactory()\n",
        "\n",
        "trainer = tff.learning.algorithms.build_weighted_fed_avg(\n",
        "    model_fn,\n",
        "    client_optimizer_fn=lambda: tf.keras.optimizers.SGD(learning_rate=0.1),\n",
        "    #server_optimizer_fn=lambda: tf.keras.optimizers.SGD(1.0, momentum=0.9),\n",
        "    model_aggregator=mean\n",
        ")\n",
        "\n",
        "state = trainer.initialize()"
      ],
      "metadata": {
        "colab": {
          "base_uri": "https://localhost:8080/"
        },
        "outputId": "416b2b0f-29e7-4cb6-e0ca-14d547ad691d",
        "id": "fag_jH74J6dl"
      },
      "execution_count": 11,
      "outputs": [
        {
          "output_type": "stream",
          "name": "stdout",
          "text": [
            "Element Spec: (TensorSpec(shape=(None, 25), dtype=tf.float32, name=None), TensorSpec(shape=(None,), dtype=tf.float32, name=None))\n",
            "Element Spec: (TensorSpec(shape=(None, 25), dtype=tf.float32, name=None), TensorSpec(shape=(None,), dtype=tf.float32, name=None))\n",
            "Element Spec: (TensorSpec(shape=(None, 25), dtype=tf.float32, name=None), TensorSpec(shape=(None,), dtype=tf.float32, name=None))\n"
          ]
        }
      ]
    },
    {
      "cell_type": "code",
      "source": [
        "evaluation = tff.learning.build_federated_evaluation(model_fn)"
      ],
      "metadata": {
        "colab": {
          "base_uri": "https://localhost:8080/"
        },
        "id": "u6VXDBFSnTMW",
        "outputId": "69238fcd-9616-417c-d284-e37175d8103d"
      },
      "execution_count": 12,
      "outputs": [
        {
          "output_type": "stream",
          "name": "stderr",
          "text": [
            "<ipython-input-12-6e9c77f70201>:1: DeprecationWarning: `tff.learning.build_federated_evaluation` is deprecated, use `tff.learning.algorithms.build_fed_eval` instead.\n",
            "  evaluation = tff.learning.build_federated_evaluation(model_fn)\n"
          ]
        },
        {
          "output_type": "stream",
          "name": "stdout",
          "text": [
            "Element Spec: (TensorSpec(shape=(None, 25), dtype=tf.float32, name=None), TensorSpec(shape=(None,), dtype=tf.float32, name=None))\n",
            "Element Spec: (TensorSpec(shape=(None, 25), dtype=tf.float32, name=None), TensorSpec(shape=(None,), dtype=tf.float32, name=None))\n"
          ]
        }
      ]
    },
    {
      "cell_type": "code",
      "source": [
        "# Run federated training and include validation\n",
        "for round_num in range(150):\n",
        "    for local_epoch in range(20):  # Define the number of local epochs\n",
        "        result = trainer.next(state, train_data)\n",
        "        state = result.state  # Update the federated learning state directly from the result\n",
        "        #print('round {:2d}, local_epoch {:2d}, metrics={}'.format(round_num, local_epoch, result.metrics))\n",
        "\n",
        "    # Perform validation after every 'validate_every' rounds\n",
        "    validate_every = 5  # You can adjust this based on your needs\n",
        "    if round_num % validate_every == 0:\n",
        "        validation_metrics = evaluation(trainer.get_model_weights(state), train_data)  # You need to implement the evaluate function\n",
        "        print('Train after round {:2d}, metrics={}'.format(round_num, validation_metrics))\n",
        "\n",
        "print('Train after round {:2d}, metrics={}'.format(round_num, validation_metrics))"
      ],
      "metadata": {
        "colab": {
          "base_uri": "https://localhost:8080/"
        },
        "id": "2Qj8XTBvncex",
        "outputId": "57d3624c-1117-46b4-ac11-1fc427e4eb6f"
      },
      "execution_count": 13,
      "outputs": [
        {
          "output_type": "stream",
          "name": "stdout",
          "text": [
            "Train after round  0, metrics=OrderedDict([('eval', OrderedDict([('sparse_categorical_accuracy', 0.5952756), ('loss', 0.9531896), ('num_examples', 25400), ('num_batches', 1271)]))])\n",
            "Train after round  5, metrics=OrderedDict([('eval', OrderedDict([('sparse_categorical_accuracy', 0.7515748), ('loss', 0.58491725), ('num_examples', 25400), ('num_batches', 1271)]))])\n",
            "Train after round 10, metrics=OrderedDict([('eval', OrderedDict([('sparse_categorical_accuracy', 0.7956693), ('loss', 0.50244385), ('num_examples', 25400), ('num_batches', 1271)]))])\n",
            "Train after round 15, metrics=OrderedDict([('eval', OrderedDict([('sparse_categorical_accuracy', 0.81732285), ('loss', 0.4455768), ('num_examples', 25400), ('num_batches', 1271)]))])\n",
            "Train after round 20, metrics=OrderedDict([('eval', OrderedDict([('sparse_categorical_accuracy', 0.82834643), ('loss', 0.4149841), ('num_examples', 25400), ('num_batches', 1271)]))])\n",
            "Train after round 25, metrics=OrderedDict([('eval', OrderedDict([('sparse_categorical_accuracy', 0.8480315), ('loss', 0.38573256), ('num_examples', 25400), ('num_batches', 1271)]))])\n",
            "Train after round 30, metrics=OrderedDict([('eval', OrderedDict([('sparse_categorical_accuracy', 0.8535433), ('loss', 0.37264982), ('num_examples', 25400), ('num_batches', 1271)]))])\n",
            "Train after round 35, metrics=OrderedDict([('eval', OrderedDict([('sparse_categorical_accuracy', 0.85787404), ('loss', 0.36114883), ('num_examples', 25400), ('num_batches', 1271)]))])\n",
            "Train after round 40, metrics=OrderedDict([('eval', OrderedDict([('sparse_categorical_accuracy', 0.86377954), ('loss', 0.34216172), ('num_examples', 25400), ('num_batches', 1271)]))])\n",
            "Train after round 45, metrics=OrderedDict([('eval', OrderedDict([('sparse_categorical_accuracy', 0.86614174), ('loss', 0.33812305), ('num_examples', 25400), ('num_batches', 1271)]))])\n",
            "Train after round 50, metrics=OrderedDict([('eval', OrderedDict([('sparse_categorical_accuracy', 0.87244093), ('loss', 0.3262988), ('num_examples', 25400), ('num_batches', 1271)]))])\n",
            "Train after round 55, metrics=OrderedDict([('eval', OrderedDict([('sparse_categorical_accuracy', 0.8748031), ('loss', 0.3262653), ('num_examples', 25400), ('num_batches', 1271)]))])\n",
            "Train after round 60, metrics=OrderedDict([('eval', OrderedDict([('sparse_categorical_accuracy', 0.88031495), ('loss', 0.30891216), ('num_examples', 25400), ('num_batches', 1271)]))])\n",
            "Train after round 65, metrics=OrderedDict([('eval', OrderedDict([('sparse_categorical_accuracy', 0.87952757), ('loss', 0.3094191), ('num_examples', 25400), ('num_batches', 1271)]))])\n",
            "Train after round 70, metrics=OrderedDict([('eval', OrderedDict([('sparse_categorical_accuracy', 0.8830709), ('loss', 0.29735547), ('num_examples', 25400), ('num_batches', 1271)]))])\n",
            "Train after round 75, metrics=OrderedDict([('eval', OrderedDict([('sparse_categorical_accuracy', 0.8850394), ('loss', 0.3002226), ('num_examples', 25400), ('num_batches', 1271)]))])\n",
            "Train after round 80, metrics=OrderedDict([('eval', OrderedDict([('sparse_categorical_accuracy', 0.88228345), ('loss', 0.30017543), ('num_examples', 25400), ('num_batches', 1271)]))])\n",
            "Train after round 85, metrics=OrderedDict([('eval', OrderedDict([('sparse_categorical_accuracy', 0.8834646), ('loss', 0.2902002), ('num_examples', 25400), ('num_batches', 1271)]))])\n",
            "Train after round 90, metrics=OrderedDict([('eval', OrderedDict([('sparse_categorical_accuracy', 0.88661414), ('loss', 0.28474382), ('num_examples', 25400), ('num_batches', 1271)]))])\n",
            "Train after round 95, metrics=OrderedDict([('eval', OrderedDict([('sparse_categorical_accuracy', 0.8893701), ('loss', 0.2804005), ('num_examples', 25400), ('num_batches', 1271)]))])\n",
            "Train after round 100, metrics=OrderedDict([('eval', OrderedDict([('sparse_categorical_accuracy', 0.8897638), ('loss', 0.27648333), ('num_examples', 25400), ('num_batches', 1271)]))])\n",
            "Train after round 105, metrics=OrderedDict([('eval', OrderedDict([('sparse_categorical_accuracy', 0.8956693), ('loss', 0.27374896), ('num_examples', 25400), ('num_batches', 1271)]))])\n",
            "Train after round 110, metrics=OrderedDict([('eval', OrderedDict([('sparse_categorical_accuracy', 0.8952756), ('loss', 0.2689106), ('num_examples', 25400), ('num_batches', 1271)]))])\n",
            "Train after round 115, metrics=OrderedDict([('eval', OrderedDict([('sparse_categorical_accuracy', 0.89212596), ('loss', 0.27147388), ('num_examples', 25400), ('num_batches', 1271)]))])\n",
            "Train after round 120, metrics=OrderedDict([('eval', OrderedDict([('sparse_categorical_accuracy', 0.8956693), ('loss', 0.27074862), ('num_examples', 25400), ('num_batches', 1271)]))])\n",
            "Train after round 125, metrics=OrderedDict([('eval', OrderedDict([('sparse_categorical_accuracy', 0.8984252), ('loss', 0.2611595), ('num_examples', 25400), ('num_batches', 1271)]))])\n",
            "Train after round 130, metrics=OrderedDict([('eval', OrderedDict([('sparse_categorical_accuracy', 0.88779527), ('loss', 0.27797782), ('num_examples', 25400), ('num_batches', 1271)]))])\n",
            "Train after round 135, metrics=OrderedDict([('eval', OrderedDict([('sparse_categorical_accuracy', 0.8956693), ('loss', 0.2606094), ('num_examples', 25400), ('num_batches', 1271)]))])\n",
            "Train after round 140, metrics=OrderedDict([('eval', OrderedDict([('sparse_categorical_accuracy', 0.8952756), ('loss', 0.26275626), ('num_examples', 25400), ('num_batches', 1271)]))])\n",
            "Train after round 145, metrics=OrderedDict([('eval', OrderedDict([('sparse_categorical_accuracy', 0.8929134), ('loss', 0.2621843), ('num_examples', 25400), ('num_batches', 1271)]))])\n",
            "Train after round 149, metrics=OrderedDict([('eval', OrderedDict([('sparse_categorical_accuracy', 0.8929134), ('loss', 0.2621843), ('num_examples', 25400), ('num_batches', 1271)]))])\n"
          ]
        }
      ]
    },
    {
      "cell_type": "markdown",
      "source": [
        "## Evaluate Group ALL - Scenario 1\n"
      ],
      "metadata": {
        "id": "MhQmIn_mKALV"
      }
    },
    {
      "cell_type": "code",
      "source": [
        "evaluation = tff.learning.build_federated_evaluation(model_fn)"
      ],
      "metadata": {
        "id": "c2K1gBG8KALe",
        "colab": {
          "base_uri": "https://localhost:8080/"
        },
        "outputId": "ace265aa-2728-4263-f4de-46e75294c51d"
      },
      "execution_count": 14,
      "outputs": [
        {
          "output_type": "stream",
          "name": "stderr",
          "text": [
            "<ipython-input-14-6e9c77f70201>:1: DeprecationWarning: `tff.learning.build_federated_evaluation` is deprecated, use `tff.learning.algorithms.build_fed_eval` instead.\n",
            "  evaluation = tff.learning.build_federated_evaluation(model_fn)\n"
          ]
        },
        {
          "output_type": "stream",
          "name": "stdout",
          "text": [
            "Element Spec: (TensorSpec(shape=(None, 25), dtype=tf.float32, name=None), TensorSpec(shape=(None,), dtype=tf.float32, name=None))\n",
            "Element Spec: (TensorSpec(shape=(None, 25), dtype=tf.float32, name=None), TensorSpec(shape=(None,), dtype=tf.float32, name=None))\n"
          ]
        }
      ]
    },
    {
      "cell_type": "code",
      "source": [
        "str(evaluation.type_signature)"
      ],
      "metadata": {
        "id": "vdChZ6hZKALf",
        "colab": {
          "base_uri": "https://localhost:8080/",
          "height": 0
        },
        "outputId": "38db278d-2bbd-4e22-9518-7aec7b18e3f7"
      },
      "execution_count": 15,
      "outputs": [
        {
          "output_type": "execute_result",
          "data": {
            "text/plain": [
              "'(<server_model_weights=<trainable=<float32[25,256],float32[256],float32[256],float32[256],float32[256,16],float32[16],float32[16,4],float32[4]>,non_trainable=<>>@SERVER,federated_dataset={<float32[?,25],float32[?]>*}@CLIENTS> -> <eval=<sparse_categorical_accuracy=float32,loss=float32,num_examples=int64,num_batches=int64>>@SERVER)'"
            ],
            "application/vnd.google.colaboratory.intrinsic+json": {
              "type": "string"
            }
          },
          "metadata": {},
          "execution_count": 15
        }
      ]
    },
    {
      "cell_type": "code",
      "source": [
        "model_weights = trainer.get_model_weights(state)"
      ],
      "metadata": {
        "id": "MR9Czo12KALf"
      },
      "execution_count": 16,
      "outputs": []
    },
    {
      "cell_type": "code",
      "source": [
        "def load_data_test(client_id):\n",
        "    file_path = \"/content/drive/MyDrive/TEST_NORMAL_TRY2.csv\"\n",
        "    df = pd.read_csv(file_path)\n",
        "\n",
        "    # Assuming the first column is unnamed and needs to be dropped\n",
        "    #df = df.iloc[:, 1:]\n",
        "\n",
        "    features = df.drop('Label', axis=1).values\n",
        "    labels = df['Label'].values.reshape(-1, 1)  # Ensure 'labels' has shape (None, 1)\n",
        "\n",
        "    # Modify labels as specified\n",
        "    modified_labels = labels - 1  # Subtract 1 from each label\n",
        "\n",
        "    # Normalize features using StandardScaler\n",
        "    scaler = StandardScaler()\n",
        "    features_normalized = scaler.fit_transform(features)\n",
        "\n",
        "    # Concatenate normalized features and modified labels using np.hstack\n",
        "    training_data = np.hstack((features_normalized, modified_labels))\n",
        "\n",
        "    # Create a new DataFrame if needed\n",
        "    columns = df.drop('Label', axis=1).columns.tolist() + ['Label']\n",
        "    training_data_df = pd.DataFrame(training_data, columns=columns)\n",
        "\n",
        "    # Convert DataFrame to tf.data.Dataset\n",
        "    training_data_tf_dataset = tf.data.Dataset.from_tensor_slices({\n",
        "        'features': training_data_df.drop('Label', axis=1).values.tolist(),\n",
        "        'labels': training_data_df['Label'].values.tolist(),\n",
        "    })\n",
        "\n",
        "    return training_data_tf_dataset\n",
        "\n",
        "\n",
        "def create_train_simulation_test(client_id_sim):\n",
        "  tff_data = tff.simulation.datasets.ClientData.from_clients_and_tf_fn(\n",
        "    client_ids=['client_0'],\n",
        "    serializable_dataset_fn=lambda client_id: load_data_test(client_id_sim),)\n",
        "  return tff_data\n",
        "\n",
        "\n",
        "def client_data_test(client_id_sim):\n",
        "  tff_data = create_train_simulation_test(client_id_sim)\n",
        "  return tff_data.create_tf_dataset_for_client(f'client_{client_id_sim}').map(\n",
        "      lambda e: (tf.reshape(e['features'], [-1]), e['labels'])\n",
        "  ).repeat(10).batch(20)\n",
        "\n",
        "\n",
        "# Pick a subset of client devices to participate in training.\n",
        "test_data = [client_data_test(0)]"
      ],
      "metadata": {
        "id": "8AfqjDxvKALf"
      },
      "execution_count": 17,
      "outputs": []
    },
    {
      "cell_type": "code",
      "source": [
        "train_metrics = evaluation(model_weights, train_data)\n",
        "test_metrics = evaluation(model_weights, test_data)"
      ],
      "metadata": {
        "id": "NgbLxUyUKALf"
      },
      "execution_count": 18,
      "outputs": []
    },
    {
      "cell_type": "code",
      "source": [
        "str(train_metrics)"
      ],
      "metadata": {
        "id": "n6IUjH9iKALf",
        "colab": {
          "base_uri": "https://localhost:8080/",
          "height": 0
        },
        "outputId": "a28e54ef-5fc5-42d8-aa44-48c89db3abe6"
      },
      "execution_count": 19,
      "outputs": [
        {
          "output_type": "execute_result",
          "data": {
            "text/plain": [
              "\"OrderedDict([('eval', OrderedDict([('sparse_categorical_accuracy', 0.9), ('loss', 0.26229754), ('num_examples', 25400), ('num_batches', 1271)]))])\""
            ],
            "application/vnd.google.colaboratory.intrinsic+json": {
              "type": "string"
            }
          },
          "metadata": {},
          "execution_count": 19
        }
      ]
    },
    {
      "cell_type": "code",
      "source": [
        "str(test_metrics)"
      ],
      "metadata": {
        "id": "UJtWwyUoKALg",
        "colab": {
          "base_uri": "https://localhost:8080/",
          "height": 0
        },
        "outputId": "9a0726ba-9cc4-477b-9cbf-c8a4262056a6"
      },
      "execution_count": 20,
      "outputs": [
        {
          "output_type": "execute_result",
          "data": {
            "text/plain": [
              "\"OrderedDict([('eval', OrderedDict([('sparse_categorical_accuracy', 0.53139013), ('loss', 1.4167523), ('num_examples', 4460), ('num_batches', 223)]))])\""
            ],
            "application/vnd.google.colaboratory.intrinsic+json": {
              "type": "string"
            }
          },
          "metadata": {},
          "execution_count": 20
        }
      ]
    },
    {
      "cell_type": "markdown",
      "source": [
        "## Evaluate ALL required Metrics"
      ],
      "metadata": {
        "id": "yQhUR_UPUK0g"
      }
    },
    {
      "cell_type": "code",
      "source": [
        "import numpy as np\n",
        "import matplotlib.pyplot as plt\n",
        "import seaborn as sns\n",
        "from sklearn import metrics\n",
        "from sklearn.metrics import confusion_matrix\n",
        "from sklearn.preprocessing import label_binarize\n",
        "\n",
        "def Performance(X_test, y_test_d, y_pred_d, classes):\n",
        "    y_test = y_test_d\n",
        "    y_pred = np.argmax(y_pred_d, axis=-1)\n",
        "\n",
        "    print('Accuracy: %.6f' % metrics.accuracy_score(y_test, y_pred))\n",
        "    print('Precision: %.6f' % metrics.precision_score(y_test, y_pred, average='micro'))\n",
        "    print('Recall: %.6f' % metrics.recall_score(y_test, y_pred, average='micro'))\n",
        "    print('F1 Score: %.6f' % metrics.f1_score(y_test, y_pred, average='micro'))\n",
        "    print('Hamming Loss: %.6f' % metrics.hamming_loss(y_test, y_pred))\n",
        "    print('Jaccard Score: %.6f' % metrics.jaccard_score(y_test, y_pred, average='micro'))\n",
        "\n",
        "    fpr, tpr, thresholds = metrics.roc_curve(y_test, y_pred, pos_label=len(classes))\n",
        "    auc_scores = []\n",
        "    for i in range(len(classes)):\n",
        "        try:\n",
        "            y_test_class = label_binarize(y_test, classes=classes)[:, i]\n",
        "            y_pred_class = y_pred_d[:, i]\n",
        "            auc_score = metrics.roc_auc_score(y_test_class, y_pred_class)\n",
        "            auc_scores.append(auc_score)\n",
        "        except ValueError:\n",
        "            # Handle the case where there are no positive samples for the current class\n",
        "            auc_scores.append(0.5)  # Assigning a default AUC of 0.5\n",
        "\n",
        "    average_auc_score = np.mean(auc_scores)\n",
        "    print('AUC Score: %.6f' % average_auc_score)\n",
        "\n",
        "    titles_options = [\n",
        "      (\"Confusion matrix, without normalization\", False, 0),\n",
        "      (\"Normalized confusion matrix\", True, 1),\n",
        "  ]\n",
        "\n",
        "    fig, ax = plt.subplots(1, 2)\n",
        "\n",
        "    for title, normalize, plot_num in titles_options:\n",
        "        cm = confusion_matrix(y_test, y_pred)\n",
        "        if normalize:\n",
        "            cm = cm.astype('float') / cm.sum(axis=1)[:, np.newaxis]\n",
        "\n",
        "        sns.heatmap(cm, annot=True, cmap='Blues', xticklabels=classes, yticklabels=classes, cbar=False, ax=ax[plot_num])\n",
        "        ax[plot_num].set_ylabel('True label')\n",
        "        ax[plot_num].set_xlabel('Predicted label')\n",
        "        ax[plot_num].set_title(title)\n",
        "\n",
        "    fig.set_size_inches(18.5, 8)\n",
        "    plt.show()\n",
        "\n",
        "    unique_classes = np.unique(y_test)\n",
        "    print(f\"actual classes in y_test: {unique_classes}\")\n",
        "    classification_rep = metrics.classification_report(y_test, y_pred, labels=unique_classes, target_names=[str(c) for c in unique_classes], zero_division=1, digits=5)\n",
        "    print(classification_rep)\n"
      ],
      "metadata": {
        "id": "Q_Dz_OzDUK0p"
      },
      "execution_count": 21,
      "outputs": []
    },
    {
      "cell_type": "code",
      "source": [
        "# Obtain the trainable weights\n",
        "model_weights = trainer.get_model_weights(state)\n",
        "trainable_weights = model_weights.trainable\n",
        "\n",
        "\n",
        "# Assuming you have created your model\n",
        "model = tf.keras.models.Sequential([\n",
        "    tf.keras.layers.Input(shape=(25,)),\n",
        "    tf.keras.layers.Dense(256, activation=tf.nn.relu),\n",
        "    tf.keras.layers.GroupNormalization(),\n",
        "    tf.keras.layers.Dropout(0.5),\n",
        "    tf.keras.layers.Dense(16, activation=tf.nn.relu),\n",
        "    tf.keras.layers.Dense(4, activation=tf.nn.softmax),\n",
        "])\n",
        "\n",
        "    # Use L2 regularization on the dense layers\n",
        "for layer in model.layers:\n",
        "  if isinstance(layer, tf.keras.layers.Dense):\n",
        "    layer.kernel_regularizer = tf.keras.regularizers.l2(0.01)\n",
        "\n",
        "\n",
        "## printing the structure of models kernel and bias for each layer\n",
        "# Initialize an empty list to store weights for each layer\n",
        "weights_list = []\n",
        "\n",
        "# Iterate through the layers in the model\n",
        "for layer in model.layers:\n",
        "    # Initialize a dictionary to store weights for the current layer\n",
        "    layer_dict = {}\n",
        "\n",
        "    # Check if the layer has a kernel (weights)\n",
        "    if layer.get_weights():\n",
        "        # Extract the kernel (weights) shape from the layer\n",
        "        kernel_shape = layer.get_weights()[0].shape\n",
        "        # Initialize random weights for the kernel\n",
        "        kernel = np.random.rand(*kernel_shape)\n",
        "        # Create a dictionary entry for the kernel\n",
        "        layer_dict['kernel'] = kernel\n",
        "        print(f\"Layer {layer.name}: Weight (kernel) shape: {kernel_shape}\")\n",
        "\n",
        "    # Check if the layer has a bias\n",
        "    if len(layer.get_weights()) > 1:\n",
        "        # Extract the bias shape from the layer\n",
        "        bias_shape = layer.get_weights()[1].shape\n",
        "        # Initialize zeros for the bias\n",
        "        bias = np.zeros(bias_shape)\n",
        "        # Create a dictionary entry for the bias\n",
        "        layer_dict['bias'] = bias\n",
        "        print(f\"Layer {layer.name}: Weight (bias) shape: {bias_shape}\")\n",
        "\n",
        "    # Append the layer dictionary to the weights_list\n",
        "    weights_list.append(layer_dict)\n",
        "\n",
        "\n",
        "\n",
        "# Print the trainable weights shape\n",
        "# Iterate through the trainable weights and print their shapes\n",
        "for i, weights in enumerate(trainable_weights):\n",
        "    print(f\"Trainable Weight {i + 1} Shape: {weights.shape}\")\n",
        "\n"
      ],
      "metadata": {
        "id": "ox56-FGtUK0p",
        "colab": {
          "base_uri": "https://localhost:8080/"
        },
        "outputId": "14eaaff6-28c3-44fd-f5a1-0452bd4fc677"
      },
      "execution_count": 22,
      "outputs": [
        {
          "output_type": "stream",
          "name": "stdout",
          "text": [
            "Layer dense: Weight (kernel) shape: (25, 256)\n",
            "Layer dense: Weight (bias) shape: (256,)\n",
            "Layer group_normalization: Weight (kernel) shape: (256,)\n",
            "Layer group_normalization: Weight (bias) shape: (256,)\n",
            "Layer dense_1: Weight (kernel) shape: (256, 16)\n",
            "Layer dense_1: Weight (bias) shape: (16,)\n",
            "Layer dense_2: Weight (kernel) shape: (16, 4)\n",
            "Layer dense_2: Weight (bias) shape: (4,)\n",
            "Trainable Weight 1 Shape: (25, 256)\n",
            "Trainable Weight 2 Shape: (256,)\n",
            "Trainable Weight 3 Shape: (256,)\n",
            "Trainable Weight 4 Shape: (256,)\n",
            "Trainable Weight 5 Shape: (256, 16)\n",
            "Trainable Weight 6 Shape: (16,)\n",
            "Trainable Weight 7 Shape: (16, 4)\n",
            "Trainable Weight 8 Shape: (4,)\n"
          ]
        }
      ]
    },
    {
      "cell_type": "code",
      "source": [
        "# Initialize an empty list to store weights\n",
        "weights_list = []\n",
        "\n",
        "# Iterate through trainable_weights with a step of 2 (kernel and bias come in pairs)\n",
        "for i in range(0, len(trainable_weights), 2):\n",
        "    # Create a dictionary for the current layer\n",
        "    layer_dict = {\n",
        "        'kernel': trainable_weights[i],\n",
        "        'bias': trainable_weights[i + 1]\n",
        "    }\n",
        "    # Append the layer dictionary to weights_list\n",
        "    weights_list.append(layer_dict)\n",
        "\n",
        "# Iterate through the layers and set the weights\n",
        "layer_index = 0\n",
        "for layer in model.layers:\n",
        "    if isinstance(layer, (tf.keras.layers.Dense, tf.keras.layers.GroupNormalization)):\n",
        "        kernel_shape = weights_list[layer_index]['kernel'].shape\n",
        "        bias_shape = weights_list[layer_index]['bias'].shape\n",
        "        print(f\"Layer {layer.name}: Set weights with shape - Kernel: {kernel_shape}, Bias: {bias_shape}\")\n",
        "        layer.set_weights([weights_list[layer_index]['kernel'], weights_list[layer_index]['bias']])\n",
        "        layer_index += 1\n"
      ],
      "metadata": {
        "id": "1PWmvYGQUK0q",
        "colab": {
          "base_uri": "https://localhost:8080/"
        },
        "outputId": "a63d6c91-45e9-4799-aaed-1489bb2ed0d6"
      },
      "execution_count": 23,
      "outputs": [
        {
          "output_type": "stream",
          "name": "stdout",
          "text": [
            "Layer dense: Set weights with shape - Kernel: (25, 256), Bias: (256,)\n",
            "Layer group_normalization: Set weights with shape - Kernel: (256,), Bias: (256,)\n",
            "Layer dense_1: Set weights with shape - Kernel: (256, 16), Bias: (16,)\n",
            "Layer dense_2: Set weights with shape - Kernel: (16, 4), Bias: (4,)\n"
          ]
        }
      ]
    },
    {
      "cell_type": "code",
      "source": [
        "file_path = \"/content/drive/MyDrive/TEST_NORMAL_TRY2.csv\"\n",
        "df = pd.read_csv(file_path)\n",
        "\n",
        "    # Assuming the first column is unnamed and needs to be dropped\n",
        "    #df = df.iloc[:, 1:]\n",
        "X_test = df.drop('Label', axis=1).values\n",
        "y_test = df['Label'].values.reshape(-1, 1)  # Ensure 'labels' has shape (None, 1)\n",
        "Y_test = y_test - 1"
      ],
      "metadata": {
        "id": "ivKYdWYGUK0q"
      },
      "execution_count": 24,
      "outputs": []
    },
    {
      "cell_type": "code",
      "source": [
        "# Assuming you have already trained your model and obtained predictions\n",
        "y_pred_dummys = model.predict(X_test)\n",
        "\n",
        "# Assuming classes variable looks like [0, 1, 2, 3]\n",
        "classes = [0, 1, 2, 3]\n",
        "\n",
        "# Call the modified function\n",
        "Performance(X_test, Y_test, y_pred_dummys, classes)\n",
        "\n",
        "#before without regulazation 93"
      ],
      "metadata": {
        "id": "IRJYFv7pUK0q",
        "colab": {
          "base_uri": "https://localhost:8080/",
          "height": 1000
        },
        "outputId": "ee5bcd08-1edc-48a1-bfae-2be5efe147cf"
      },
      "execution_count": 25,
      "outputs": [
        {
          "output_type": "stream",
          "name": "stdout",
          "text": [
            "14/14 [==============================] - 0s 3ms/step\n",
            "Accuracy: 0.713004\n",
            "Precision: 0.713004\n",
            "Recall: 0.713004\n",
            "F1 Score: 0.713004\n",
            "Hamming Loss: 0.286996\n",
            "Jaccard Score: 0.554007\n",
            "AUC Score: 0.930880\n"
          ]
        },
        {
          "output_type": "stream",
          "name": "stderr",
          "text": [
            "/usr/local/lib/python3.10/dist-packages/sklearn/metrics/_ranking.py:1029: UndefinedMetricWarning: No positive samples in y_true, true positive value should be meaningless\n",
            "  warnings.warn(\n"
          ]
        },
        {
          "output_type": "display_data",
          "data": {
            "text/plain": [
              "<Figure size 1850x800 with 2 Axes>"
            ],
            "image/png": "[encoded data removed]"
          },
          "metadata": {}
        },
        {
          "output_type": "stream",
          "name": "stdout",
          "text": [
            "actual classes in y_test: [0 1 2 3]\n",
            "              precision    recall  f1-score   support\n",
            "\n",
            "           0    0.90361   0.82418   0.86207        91\n",
            "           1    0.89873   0.59167   0.71357       120\n",
            "           2    0.68103   0.66387   0.67234       119\n",
            "           3    0.55357   0.80172   0.65493       116\n",
            "\n",
            "    accuracy                        0.71300       446\n",
            "   macro avg    0.75924   0.72036   0.72573       446\n",
            "weighted avg    0.75187   0.71300   0.71762       446\n",
            "\n"
          ]
        }
      ]
    },
    {
      "cell_type": "markdown",
      "source": [
        "## Train Group ALL- Scenario 2"
      ],
      "metadata": {
        "id": "gCx_1G3Q1dHR"
      }
    },
    {
      "cell_type": "code",
      "source": [
        "def load_data(client_id):\n",
        "    file_path = f'/content/drive/MyDrive/New_GAN/newGan{client_id + 1}.csv'\n",
        "    df = pd.read_csv(file_path)\n",
        "\n",
        "    df = poison_data_2(df, percent=0.25)\n",
        "\n",
        "    features = df.drop('Label', axis=1).values\n",
        "    labels = df['Label'].values.reshape(-1, 1)  # Ensure 'labels' has shape (None, 1)\n",
        "\n",
        "    # Modify labels as specified\n",
        "    modified_labels = labels - 1  # Subtract 1 from each label\n",
        "\n",
        "    # Normalize features using StandardScaler\n",
        "    #scaler = StandardScaler()\n",
        "    features_normalized = features #scaler.fit_transform(features)\n",
        "\n",
        "    # Concatenate normalized features and modified labels using np.hstack\n",
        "    training_data = np.hstack((features_normalized, modified_labels))\n",
        "\n",
        "    # Create a new DataFrame if needed\n",
        "    columns = df.drop('Label', axis=1).columns.tolist() + ['Label']\n",
        "    training_data_df = pd.DataFrame(training_data, columns=columns)\n",
        "\n",
        "    # Convert DataFrame to tf.data.Dataset\n",
        "    training_data_tf_dataset = tf.data.Dataset.from_tensor_slices({\n",
        "        'features': training_data_df.drop('Label', axis=1).values.tolist(),\n",
        "        'labels': training_data_df['Label'].values.tolist(),\n",
        "    })\n",
        "\n",
        "    return training_data_tf_dataset\n",
        "\n",
        "def create_train_simulation(client_id_sim):\n",
        "  tff_data = tff.simulation.datasets.ClientData.from_clients_and_tf_fn(\n",
        "    client_ids=['client_0', 'client_1', 'client_2'],\n",
        "    serializable_dataset_fn=lambda client_id: load_data(client_id_sim),)\n",
        "  return tff_data\n",
        "\n",
        "\n",
        "def client_data(client_id_sim):\n",
        "  tff_data = create_train_simulation(client_id_sim)\n",
        "  return tff_data.create_tf_dataset_for_client(f'client_{client_id_sim}').map(\n",
        "      lambda e: (tf.reshape(e['features'], [-1]), e['labels'])\n",
        "  ).repeat(10).batch(20)\n",
        "\n",
        "\n",
        "# Pick a subset of client devices to participate in training.\n",
        "train_data = [client_data(n) for n in range(3)]\n",
        "\n",
        "\n",
        "\n",
        "def model_fn():\n",
        "    model = tf.keras.models.Sequential([\n",
        "        tf.keras.layers.Input(shape=(25,)),\n",
        "        tf.keras.layers.Dense(256, activation=tf.nn.relu),\n",
        "        tf.keras.layers.GroupNormalization(),  # Replace GroupNormalization with BatchNormalization\n",
        "        tf.keras.layers.Dropout(0.5),\n",
        "        tf.keras.layers.Dense(16, activation=tf.nn.relu),  # Decrease the number of units in this layer\n",
        "        tf.keras.layers.Dense(4, activation=tf.nn.softmax),\n",
        "    ])\n",
        "\n",
        "    # Use L2 regularization on the dense layers\n",
        "    for layer in model.layers:\n",
        "        if isinstance(layer, tf.keras.layers.Dense):\n",
        "            layer.kernel_regularizer = tf.keras.regularizers.l2(0.01)\n",
        "\n",
        "    element_spec = train_data[0].element_spec\n",
        "    print(\"Element Spec:\", element_spec)\n",
        "\n",
        "    return tff.learning.models.from_keras_model(\n",
        "        model,\n",
        "        input_spec=train_data[0].element_spec,\n",
        "        loss=tf.keras.losses.SparseCategoricalCrossentropy(),\n",
        "        metrics=[tf.keras.metrics.SparseCategoricalAccuracy()])"
      ],
      "metadata": {
        "id": "pwFxVSvY1dHR",
        "colab": {
          "base_uri": "https://localhost:8080/"
        },
        "outputId": "a68bd661-426b-4ce2-9b64-c2ebf557f50e"
      },
      "execution_count": 27,
      "outputs": [
        {
          "output_type": "stream",
          "name": "stdout",
          "text": [
            "Poison percentage 0.25\n",
            "Poison percentage 0.25\n",
            "Poison percentage 0.25\n",
            "Poison percentage 0.25\n",
            "Poison percentage 0.25\n",
            "Poison percentage 0.25\n"
          ]
        }
      ]
    },
    {
      "cell_type": "code",
      "source": [
        "# Define the federated algorithm (Federated Averaging)\n",
        "# Compression is innermost because its pre-aggregation effects are last.\n",
        "mean = tff.aggregators.MeanFactory()\n",
        "\n",
        "trainer = tff.learning.algorithms.build_weighted_fed_avg(\n",
        "    model_fn,\n",
        "    client_optimizer_fn=lambda: tf.keras.optimizers.SGD(learning_rate=0.1),\n",
        "    #server_optimizer_fn=lambda: tf.keras.optimizers.SGD(1.0, momentum=0.9),\n",
        "    model_aggregator=mean\n",
        ")\n",
        "\n",
        "state = trainer.initialize()"
      ],
      "metadata": {
        "id": "nKq4ZdFI1dHS",
        "colab": {
          "base_uri": "https://localhost:8080/"
        },
        "outputId": "0de6a78e-829b-4ce0-aabb-7dec448cb52b"
      },
      "execution_count": 28,
      "outputs": [
        {
          "output_type": "stream",
          "name": "stdout",
          "text": [
            "Element Spec: (TensorSpec(shape=(None, 25), dtype=tf.float32, name=None), TensorSpec(shape=(None,), dtype=tf.float32, name=None))\n",
            "Element Spec: (TensorSpec(shape=(None, 25), dtype=tf.float32, name=None), TensorSpec(shape=(None,), dtype=tf.float32, name=None))\n",
            "Element Spec: (TensorSpec(shape=(None, 25), dtype=tf.float32, name=None), TensorSpec(shape=(None,), dtype=tf.float32, name=None))\n"
          ]
        }
      ]
    },
    {
      "cell_type": "code",
      "source": [
        "evaluation = tff.learning.build_federated_evaluation(model_fn)"
      ],
      "metadata": {
        "id": "eyaVevmm1dHS",
        "colab": {
          "base_uri": "https://localhost:8080/"
        },
        "outputId": "c40ea3d0-53db-4881-eb59-c956aeac16a3"
      },
      "execution_count": 29,
      "outputs": [
        {
          "output_type": "stream",
          "name": "stderr",
          "text": [
            "<ipython-input-29-6e9c77f70201>:1: DeprecationWarning: `tff.learning.build_federated_evaluation` is deprecated, use `tff.learning.algorithms.build_fed_eval` instead.\n",
            "  evaluation = tff.learning.build_federated_evaluation(model_fn)\n"
          ]
        },
        {
          "output_type": "stream",
          "name": "stdout",
          "text": [
            "Element Spec: (TensorSpec(shape=(None, 25), dtype=tf.float32, name=None), TensorSpec(shape=(None,), dtype=tf.float32, name=None))\n",
            "Element Spec: (TensorSpec(shape=(None, 25), dtype=tf.float32, name=None), TensorSpec(shape=(None,), dtype=tf.float32, name=None))\n"
          ]
        }
      ]
    },
    {
      "cell_type": "code",
      "source": [
        "# Run federated training and include validation\n",
        "for round_num in range(150):\n",
        "    for local_epoch in range(20):  # Define the number of local epochs\n",
        "        result = trainer.next(state, train_data)\n",
        "        state = result.state  # Update the federated learning state directly from the result\n",
        "        #print('round {:2d}, local_epoch {:2d}, metrics={}'.format(round_num, local_epoch, result.metrics))\n",
        "\n",
        "    # Perform validation after every 'validate_every' rounds\n",
        "    validate_every = 5  # You can adjust this based on your needs\n",
        "    if round_num % validate_every == 0:\n",
        "        validation_metrics = evaluation(trainer.get_model_weights(state), train_data)  # You need to implement the evaluate function\n",
        "        print('Train after round {:2d}, metrics={}'.format(round_num, validation_metrics))\n",
        "\n",
        "print('Train after round {:2d}, metrics={}'.format(round_num, validation_metrics))"
      ],
      "metadata": {
        "id": "wSJY7K161dHi",
        "colab": {
          "base_uri": "https://localhost:8080/"
        },
        "outputId": "7a6177bc-4df4-4a79-e332-3d859056fa96"
      },
      "execution_count": 30,
      "outputs": [
        {
          "output_type": "stream",
          "name": "stdout",
          "text": [
            "Train after round  0, metrics=OrderedDict([('eval', OrderedDict([('sparse_categorical_accuracy', 0.5704724), ('loss', 0.9554956), ('num_examples', 25400), ('num_batches', 1271)]))])\n",
            "Train after round  5, metrics=OrderedDict([('eval', OrderedDict([('sparse_categorical_accuracy', 0.7464567), ('loss', 0.6039079), ('num_examples', 25400), ('num_batches', 1271)]))])\n",
            "Train after round 10, metrics=OrderedDict([('eval', OrderedDict([('sparse_categorical_accuracy', 0.7877953), ('loss', 0.5040542), ('num_examples', 25400), ('num_batches', 1271)]))])\n",
            "Train after round 15, metrics=OrderedDict([('eval', OrderedDict([('sparse_categorical_accuracy', 0.8244094), ('loss', 0.4388955), ('num_examples', 25400), ('num_batches', 1271)]))])\n",
            "Train after round 20, metrics=OrderedDict([('eval', OrderedDict([('sparse_categorical_accuracy', 0.83976376), ('loss', 0.40099996), ('num_examples', 25400), ('num_batches', 1271)]))])\n",
            "Train after round 25, metrics=OrderedDict([('eval', OrderedDict([('sparse_categorical_accuracy', 0.8472441), ('loss', 0.3801121), ('num_examples', 25400), ('num_batches', 1271)]))])\n",
            "Train after round 30, metrics=OrderedDict([('eval', OrderedDict([('sparse_categorical_accuracy', 0.8594488), ('loss', 0.35968047), ('num_examples', 25400), ('num_batches', 1271)]))])\n",
            "Train after round 35, metrics=OrderedDict([('eval', OrderedDict([('sparse_categorical_accuracy', 0.85393703), ('loss', 0.3526923), ('num_examples', 25400), ('num_batches', 1271)]))])\n",
            "Train after round 40, metrics=OrderedDict([('eval', OrderedDict([('sparse_categorical_accuracy', 0.8688976), ('loss', 0.33211514), ('num_examples', 25400), ('num_batches', 1271)]))])\n",
            "Train after round 45, metrics=OrderedDict([('eval', OrderedDict([('sparse_categorical_accuracy', 0.8767716), ('loss', 0.31630144), ('num_examples', 25400), ('num_batches', 1271)]))])\n",
            "Train after round 50, metrics=OrderedDict([('eval', OrderedDict([('sparse_categorical_accuracy', 0.87637794), ('loss', 0.31734845), ('num_examples', 25400), ('num_batches', 1271)]))])\n",
            "Train after round 55, metrics=OrderedDict([('eval', OrderedDict([('sparse_categorical_accuracy', 0.8767716), ('loss', 0.31468284), ('num_examples', 25400), ('num_batches', 1271)]))])\n",
            "Train after round 60, metrics=OrderedDict([('eval', OrderedDict([('sparse_categorical_accuracy', 0.88267714), ('loss', 0.31104806), ('num_examples', 25400), ('num_batches', 1271)]))])\n",
            "Train after round 65, metrics=OrderedDict([('eval', OrderedDict([('sparse_categorical_accuracy', 0.88031495), ('loss', 0.3037787), ('num_examples', 25400), ('num_batches', 1271)]))])\n",
            "Train after round 70, metrics=OrderedDict([('eval', OrderedDict([('sparse_categorical_accuracy', 0.88031495), ('loss', 0.30523017), ('num_examples', 25400), ('num_batches', 1271)]))])\n",
            "Train after round 75, metrics=OrderedDict([('eval', OrderedDict([('sparse_categorical_accuracy', 0.88188976), ('loss', 0.2937828), ('num_examples', 25400), ('num_batches', 1271)]))])\n",
            "Train after round 80, metrics=OrderedDict([('eval', OrderedDict([('sparse_categorical_accuracy', 0.8830709), ('loss', 0.29211822), ('num_examples', 25400), ('num_batches', 1271)]))])\n",
            "Train after round 85, metrics=OrderedDict([('eval', OrderedDict([('sparse_categorical_accuracy', 0.8870079), ('loss', 0.28367674), ('num_examples', 25400), ('num_batches', 1271)]))])\n",
            "Train after round 90, metrics=OrderedDict([('eval', OrderedDict([('sparse_categorical_accuracy', 0.88582677), ('loss', 0.28492388), ('num_examples', 25400), ('num_batches', 1271)]))])\n",
            "Train after round 95, metrics=OrderedDict([('eval', OrderedDict([('sparse_categorical_accuracy', 0.88818896), ('loss', 0.28195605), ('num_examples', 25400), ('num_batches', 1271)]))])\n",
            "Train after round 100, metrics=OrderedDict([('eval', OrderedDict([('sparse_categorical_accuracy', 0.8925197), ('loss', 0.27127573), ('num_examples', 25400), ('num_batches', 1271)]))])\n",
            "Train after round 105, metrics=OrderedDict([('eval', OrderedDict([('sparse_categorical_accuracy', 0.8944882), ('loss', 0.27484247), ('num_examples', 25400), ('num_batches', 1271)]))])\n",
            "Train after round 110, metrics=OrderedDict([('eval', OrderedDict([('sparse_categorical_accuracy', 0.8948819), ('loss', 0.27225885), ('num_examples', 25400), ('num_batches', 1271)]))])\n",
            "Train after round 115, metrics=OrderedDict([('eval', OrderedDict([('sparse_categorical_accuracy', 0.89212596), ('loss', 0.2705069), ('num_examples', 25400), ('num_batches', 1271)]))])\n",
            "Train after round 120, metrics=OrderedDict([('eval', OrderedDict([('sparse_categorical_accuracy', 0.8929134), ('loss', 0.2759708), ('num_examples', 25400), ('num_batches', 1271)]))])\n",
            "Train after round 125, metrics=OrderedDict([('eval', OrderedDict([('sparse_categorical_accuracy', 0.8929134), ('loss', 0.27023765), ('num_examples', 25400), ('num_batches', 1271)]))])\n",
            "Train after round 130, metrics=OrderedDict([('eval', OrderedDict([('sparse_categorical_accuracy', 0.9019685), ('loss', 0.26083294), ('num_examples', 25400), ('num_batches', 1271)]))])\n",
            "Train after round 135, metrics=OrderedDict([('eval', OrderedDict([('sparse_categorical_accuracy', 0.9007874), ('loss', 0.258534), ('num_examples', 25400), ('num_batches', 1271)]))])\n",
            "Train after round 140, metrics=OrderedDict([('eval', OrderedDict([('sparse_categorical_accuracy', 0.9047244), ('loss', 0.2543135), ('num_examples', 25400), ('num_batches', 1271)]))])\n",
            "Train after round 145, metrics=OrderedDict([('eval', OrderedDict([('sparse_categorical_accuracy', 0.9015748), ('loss', 0.25552735), ('num_examples', 25400), ('num_batches', 1271)]))])\n",
            "Train after round 149, metrics=OrderedDict([('eval', OrderedDict([('sparse_categorical_accuracy', 0.9015748), ('loss', 0.25552735), ('num_examples', 25400), ('num_batches', 1271)]))])\n"
          ]
        }
      ]
    },
    {
      "cell_type": "markdown",
      "source": [
        "## Evaluate Group ALL - Scenario 2\n"
      ],
      "metadata": {
        "id": "o3yHt81V1i2N"
      }
    },
    {
      "cell_type": "code",
      "source": [
        "evaluation = tff.learning.build_federated_evaluation(model_fn)"
      ],
      "metadata": {
        "id": "hxPMZl5h1i2e",
        "colab": {
          "base_uri": "https://localhost:8080/"
        },
        "outputId": "60cf6b84-4e38-4ae3-8187-59356926383c"
      },
      "execution_count": 31,
      "outputs": [
        {
          "output_type": "stream",
          "name": "stderr",
          "text": [
            "<ipython-input-31-6e9c77f70201>:1: DeprecationWarning: `tff.learning.build_federated_evaluation` is deprecated, use `tff.learning.algorithms.build_fed_eval` instead.\n",
            "  evaluation = tff.learning.build_federated_evaluation(model_fn)\n"
          ]
        },
        {
          "output_type": "stream",
          "name": "stdout",
          "text": [
            "Element Spec: (TensorSpec(shape=(None, 25), dtype=tf.float32, name=None), TensorSpec(shape=(None,), dtype=tf.float32, name=None))\n",
            "Element Spec: (TensorSpec(shape=(None, 25), dtype=tf.float32, name=None), TensorSpec(shape=(None,), dtype=tf.float32, name=None))\n"
          ]
        }
      ]
    },
    {
      "cell_type": "code",
      "source": [
        "str(evaluation.type_signature)"
      ],
      "metadata": {
        "id": "B1gjy43l1i2e",
        "colab": {
          "base_uri": "https://localhost:8080/",
          "height": 0
        },
        "outputId": "f55ced6f-8373-474e-f412-8fb713828599"
      },
      "execution_count": 32,
      "outputs": [
        {
          "output_type": "execute_result",
          "data": {
            "text/plain": [
              "'(<server_model_weights=<trainable=<float32[25,256],float32[256],float32[256],float32[256],float32[256,16],float32[16],float32[16,4],float32[4]>,non_trainable=<>>@SERVER,federated_dataset={<float32[?,25],float32[?]>*}@CLIENTS> -> <eval=<sparse_categorical_accuracy=float32,loss=float32,num_examples=int64,num_batches=int64>>@SERVER)'"
            ],
            "application/vnd.google.colaboratory.intrinsic+json": {
              "type": "string"
            }
          },
          "metadata": {},
          "execution_count": 32
        }
      ]
    },
    {
      "cell_type": "code",
      "source": [
        "model_weights = trainer.get_model_weights(state)"
      ],
      "metadata": {
        "id": "ZrDBN_u21i2e"
      },
      "execution_count": 33,
      "outputs": []
    },
    {
      "cell_type": "code",
      "source": [
        "def load_data_test(client_id):\n",
        "    file_path = \"/content/drive/MyDrive/TEST_NORMAL_TRY2.csv\"\n",
        "    df = pd.read_csv(file_path)\n",
        "\n",
        "    # Assuming the first column is unnamed and needs to be dropped\n",
        "    #df = df.iloc[:, 1:]\n",
        "\n",
        "    features = df.drop('Label', axis=1).values\n",
        "    labels = df['Label'].values.reshape(-1, 1)  # Ensure 'labels' has shape (None, 1)\n",
        "\n",
        "    # Modify labels as specified\n",
        "    modified_labels = labels - 1  # Subtract 1 from each label\n",
        "\n",
        "    # Normalize features using StandardScaler\n",
        "    scaler = StandardScaler()\n",
        "    features_normalized = scaler.fit_transform(features)\n",
        "\n",
        "    # Concatenate normalized features and modified labels using np.hstack\n",
        "    training_data = np.hstack((features_normalized, modified_labels))\n",
        "\n",
        "    # Create a new DataFrame if needed\n",
        "    columns = df.drop('Label', axis=1).columns.tolist() + ['Label']\n",
        "    training_data_df = pd.DataFrame(training_data, columns=columns)\n",
        "\n",
        "    # Convert DataFrame to tf.data.Dataset\n",
        "    training_data_tf_dataset = tf.data.Dataset.from_tensor_slices({\n",
        "        'features': training_data_df.drop('Label', axis=1).values.tolist(),\n",
        "        'labels': training_data_df['Label'].values.tolist(),\n",
        "    })\n",
        "\n",
        "    return training_data_tf_dataset\n",
        "\n",
        "\n",
        "def create_train_simulation_test(client_id_sim):\n",
        "  tff_data = tff.simulation.datasets.ClientData.from_clients_and_tf_fn(\n",
        "    client_ids=['client_0'],\n",
        "    serializable_dataset_fn=lambda client_id: load_data_test(client_id_sim),)\n",
        "  return tff_data\n",
        "\n",
        "\n",
        "def client_data_test(client_id_sim):\n",
        "  tff_data = create_train_simulation_test(client_id_sim)\n",
        "  return tff_data.create_tf_dataset_for_client(f'client_{client_id_sim}').map(\n",
        "      lambda e: (tf.reshape(e['features'], [-1]), e['labels'])\n",
        "  ).repeat(10).batch(20)\n",
        "\n",
        "\n",
        "# Pick a subset of client devices to participate in training.\n",
        "test_data = [client_data_test(0)]"
      ],
      "metadata": {
        "id": "pZfEqTvz1i2e"
      },
      "execution_count": 34,
      "outputs": []
    },
    {
      "cell_type": "code",
      "source": [
        "train_metrics = evaluation(model_weights, train_data)\n",
        "test_metrics = evaluation(model_weights, test_data)"
      ],
      "metadata": {
        "id": "kfDJw2Zr1i2f"
      },
      "execution_count": 35,
      "outputs": []
    },
    {
      "cell_type": "code",
      "source": [
        "str(train_metrics)"
      ],
      "metadata": {
        "id": "xduDAvE81i2f",
        "colab": {
          "base_uri": "https://localhost:8080/",
          "height": 0
        },
        "outputId": "f642893f-c35f-4d0a-dd3a-c8f95d5b8ad6"
      },
      "execution_count": 36,
      "outputs": [
        {
          "output_type": "execute_result",
          "data": {
            "text/plain": [
              "\"OrderedDict([('eval', OrderedDict([('sparse_categorical_accuracy', 0.9019685), ('loss', 0.25399265), ('num_examples', 25400), ('num_batches', 1271)]))])\""
            ],
            "application/vnd.google.colaboratory.intrinsic+json": {
              "type": "string"
            }
          },
          "metadata": {},
          "execution_count": 36
        }
      ]
    },
    {
      "cell_type": "code",
      "source": [
        "str(test_metrics)"
      ],
      "metadata": {
        "id": "lCWVCC4G1i2f",
        "colab": {
          "base_uri": "https://localhost:8080/",
          "height": 0
        },
        "outputId": "68031381-241c-44e2-b28b-3e7c5f8f8ee7"
      },
      "execution_count": 37,
      "outputs": [
        {
          "output_type": "execute_result",
          "data": {
            "text/plain": [
              "\"OrderedDict([('eval', OrderedDict([('sparse_categorical_accuracy', 0.5), ('loss', 1.6241304), ('num_examples', 4460), ('num_batches', 223)]))])\""
            ],
            "application/vnd.google.colaboratory.intrinsic+json": {
              "type": "string"
            }
          },
          "metadata": {},
          "execution_count": 37
        }
      ]
    },
    {
      "cell_type": "markdown",
      "source": [
        "## Evaluate ALL required Metrics"
      ],
      "metadata": {
        "id": "tgShrnnKZGTP"
      }
    },
    {
      "cell_type": "code",
      "source": [
        "import numpy as np\n",
        "import matplotlib.pyplot as plt\n",
        "import seaborn as sns\n",
        "from sklearn import metrics\n",
        "from sklearn.metrics import confusion_matrix\n",
        "from sklearn.preprocessing import label_binarize\n",
        "\n",
        "def Performance(X_test, y_test_d, y_pred_d, classes):\n",
        "    y_test = y_test_d\n",
        "    y_pred = np.argmax(y_pred_d, axis=-1)\n",
        "\n",
        "    print('Accuracy: %.6f' % metrics.accuracy_score(y_test, y_pred))\n",
        "    print('Precision: %.6f' % metrics.precision_score(y_test, y_pred, average='micro'))\n",
        "    print('Recall: %.6f' % metrics.recall_score(y_test, y_pred, average='micro'))\n",
        "    print('F1 Score: %.6f' % metrics.f1_score(y_test, y_pred, average='micro'))\n",
        "    print('Hamming Loss: %.6f' % metrics.hamming_loss(y_test, y_pred))\n",
        "    print('Jaccard Score: %.6f' % metrics.jaccard_score(y_test, y_pred, average='micro'))\n",
        "\n",
        "    fpr, tpr, thresholds = metrics.roc_curve(y_test, y_pred, pos_label=len(classes))\n",
        "    auc_scores = []\n",
        "    for i in range(len(classes)):\n",
        "        try:\n",
        "            y_test_class = label_binarize(y_test, classes=classes)[:, i]\n",
        "            y_pred_class = y_pred_d[:, i]\n",
        "            auc_score = metrics.roc_auc_score(y_test_class, y_pred_class)\n",
        "            auc_scores.append(auc_score)\n",
        "        except ValueError:\n",
        "            # Handle the case where there are no positive samples for the current class\n",
        "            auc_scores.append(0.5)  # Assigning a default AUC of 0.5\n",
        "\n",
        "    average_auc_score = np.mean(auc_scores)\n",
        "    print('AUC Score: %.6f' % average_auc_score)\n",
        "\n",
        "    titles_options = [\n",
        "      (\"Confusion matrix, without normalization\", False, 0),\n",
        "      (\"Normalized confusion matrix\", True, 1),\n",
        "  ]\n",
        "\n",
        "    fig, ax = plt.subplots(1, 2)\n",
        "\n",
        "    for title, normalize, plot_num in titles_options:\n",
        "        cm = confusion_matrix(y_test, y_pred)\n",
        "        if normalize:\n",
        "            cm = cm.astype('float') / cm.sum(axis=1)[:, np.newaxis]\n",
        "\n",
        "        sns.heatmap(cm, annot=True, cmap='Blues', xticklabels=classes, yticklabels=classes, cbar=False, ax=ax[plot_num])\n",
        "        ax[plot_num].set_ylabel('True label')\n",
        "        ax[plot_num].set_xlabel('Predicted label')\n",
        "        ax[plot_num].set_title(title)\n",
        "\n",
        "    fig.set_size_inches(18.5, 8)\n",
        "    plt.show()\n",
        "\n",
        "    unique_classes = np.unique(y_test)\n",
        "    print(f\"actual classes in y_test: {unique_classes}\")\n",
        "    classification_rep = metrics.classification_report(y_test, y_pred, labels=unique_classes, target_names=[str(c) for c in unique_classes], zero_division=1, digits=5)\n",
        "    print(classification_rep)\n"
      ],
      "metadata": {
        "id": "UBZNEHwfZGTZ"
      },
      "execution_count": 38,
      "outputs": []
    },
    {
      "cell_type": "code",
      "source": [
        "# Obtain the trainable weights\n",
        "model_weights = trainer.get_model_weights(state)\n",
        "trainable_weights = model_weights.trainable\n",
        "\n",
        "\n",
        "# Assuming you have created your model\n",
        "model = tf.keras.models.Sequential([\n",
        "    tf.keras.layers.Input(shape=(25,)),\n",
        "    tf.keras.layers.Dense(256, activation=tf.nn.relu),\n",
        "    tf.keras.layers.GroupNormalization(),\n",
        "    tf.keras.layers.Dropout(0.5),\n",
        "    tf.keras.layers.Dense(16, activation=tf.nn.relu),\n",
        "    tf.keras.layers.Dense(4, activation=tf.nn.softmax),\n",
        "])\n",
        "\n",
        "    # Use L2 regularization on the dense layers\n",
        "for layer in model.layers:\n",
        "  if isinstance(layer, tf.keras.layers.Dense):\n",
        "    layer.kernel_regularizer = tf.keras.regularizers.l2(0.01)\n",
        "\n",
        "\n",
        "## printing the structure of models kernel and bias for each layer\n",
        "# Initialize an empty list to store weights for each layer\n",
        "weights_list = []\n",
        "\n",
        "# Iterate through the layers in the model\n",
        "for layer in model.layers:\n",
        "    # Initialize a dictionary to store weights for the current layer\n",
        "    layer_dict = {}\n",
        "\n",
        "    # Check if the layer has a kernel (weights)\n",
        "    if layer.get_weights():\n",
        "        # Extract the kernel (weights) shape from the layer\n",
        "        kernel_shape = layer.get_weights()[0].shape\n",
        "        # Initialize random weights for the kernel\n",
        "        kernel = np.random.rand(*kernel_shape)\n",
        "        # Create a dictionary entry for the kernel\n",
        "        layer_dict['kernel'] = kernel\n",
        "        print(f\"Layer {layer.name}: Weight (kernel) shape: {kernel_shape}\")\n",
        "\n",
        "    # Check if the layer has a bias\n",
        "    if len(layer.get_weights()) > 1:\n",
        "        # Extract the bias shape from the layer\n",
        "        bias_shape = layer.get_weights()[1].shape\n",
        "        # Initialize zeros for the bias\n",
        "        bias = np.zeros(bias_shape)\n",
        "        # Create a dictionary entry for the bias\n",
        "        layer_dict['bias'] = bias\n",
        "        print(f\"Layer {layer.name}: Weight (bias) shape: {bias_shape}\")\n",
        "\n",
        "    # Append the layer dictionary to the weights_list\n",
        "    weights_list.append(layer_dict)\n",
        "\n",
        "\n",
        "# Print the trainable weights shape\n",
        "# Iterate through the trainable weights and print their shapes\n",
        "for i, weights in enumerate(trainable_weights):\n",
        "    print(f\"Trainable Weight {i + 1} Shape: {weights.shape}\")\n",
        "\n"
      ],
      "metadata": {
        "colab": {
          "base_uri": "https://localhost:8080/"
        },
        "id": "pF-sWMJZZGTa",
        "outputId": "6fb60461-6021-4452-9dbc-335db4d464ba"
      },
      "execution_count": 39,
      "outputs": [
        {
          "output_type": "stream",
          "name": "stdout",
          "text": [
            "Layer dense_3: Weight (kernel) shape: (25, 256)\n",
            "Layer dense_3: Weight (bias) shape: (256,)\n",
            "Layer group_normalization_1: Weight (kernel) shape: (256,)\n",
            "Layer group_normalization_1: Weight (bias) shape: (256,)\n",
            "Layer dense_4: Weight (kernel) shape: (256, 16)\n",
            "Layer dense_4: Weight (bias) shape: (16,)\n",
            "Layer dense_5: Weight (kernel) shape: (16, 4)\n",
            "Layer dense_5: Weight (bias) shape: (4,)\n",
            "Trainable Weight 1 Shape: (25, 256)\n",
            "Trainable Weight 2 Shape: (256,)\n",
            "Trainable Weight 3 Shape: (256,)\n",
            "Trainable Weight 4 Shape: (256,)\n",
            "Trainable Weight 5 Shape: (256, 16)\n",
            "Trainable Weight 6 Shape: (16,)\n",
            "Trainable Weight 7 Shape: (16, 4)\n",
            "Trainable Weight 8 Shape: (4,)\n"
          ]
        }
      ]
    },
    {
      "cell_type": "code",
      "source": [
        "# Initialize an empty list to store weights\n",
        "weights_list = []\n",
        "\n",
        "# Iterate through trainable_weights with a step of 2 (kernel and bias come in pairs)\n",
        "for i in range(0, len(trainable_weights), 2):\n",
        "    # Create a dictionary for the current layer\n",
        "    layer_dict = {\n",
        "        'kernel': trainable_weights[i],\n",
        "        'bias': trainable_weights[i + 1]\n",
        "    }\n",
        "    # Append the layer dictionary to weights_list\n",
        "    weights_list.append(layer_dict)\n",
        "\n",
        "# Iterate through the layers and set the weights\n",
        "layer_index = 0\n",
        "for layer in model.layers:\n",
        "    if isinstance(layer, (tf.keras.layers.Dense, tf.keras.layers.GroupNormalization)):\n",
        "        kernel_shape = weights_list[layer_index]['kernel'].shape\n",
        "        bias_shape = weights_list[layer_index]['bias'].shape\n",
        "        print(f\"Layer {layer.name}: Set weights with shape - Kernel: {kernel_shape}, Bias: {bias_shape}\")\n",
        "        layer.set_weights([weights_list[layer_index]['kernel'], weights_list[layer_index]['bias']])\n",
        "        layer_index += 1\n"
      ],
      "metadata": {
        "colab": {
          "base_uri": "https://localhost:8080/"
        },
        "id": "aJ3LTpJWZGTa",
        "outputId": "3cdd45e9-dd05-4bfc-974c-df608af76ead"
      },
      "execution_count": 40,
      "outputs": [
        {
          "output_type": "stream",
          "name": "stdout",
          "text": [
            "Layer dense_3: Set weights with shape - Kernel: (25, 256), Bias: (256,)\n",
            "Layer group_normalization_1: Set weights with shape - Kernel: (256,), Bias: (256,)\n",
            "Layer dense_4: Set weights with shape - Kernel: (256, 16), Bias: (16,)\n",
            "Layer dense_5: Set weights with shape - Kernel: (16, 4), Bias: (4,)\n"
          ]
        }
      ]
    },
    {
      "cell_type": "code",
      "source": [
        "file_path = \"/content/drive/MyDrive/TEST_NORMAL_TRY2.csv\"\n",
        "df = pd.read_csv(file_path)\n",
        "\n",
        "    # Assuming the first column is unnamed and needs to be dropped\n",
        "    #df = df.iloc[:, 1:]\n",
        "X_test = df.drop('Label', axis=1).values\n",
        "y_test = df['Label'].values.reshape(-1, 1)  # Ensure 'labels' has shape (None, 1)\n",
        "Y_test = y_test - 1"
      ],
      "metadata": {
        "id": "3jTD14ZFZGTb"
      },
      "execution_count": 42,
      "outputs": []
    },
    {
      "cell_type": "code",
      "source": [
        "# Assuming you have already trained your model and obtained predictions\n",
        "y_pred_dummys = model.predict(X_test)\n",
        "\n",
        "# Assuming classes variable looks like [0, 1, 2, 3]\n",
        "classes = [0, 1, 2, 3]\n",
        "\n",
        "# Call the modified function\n",
        "Performance(X_test, Y_test, y_pred_dummys, classes)\n",
        "\n",
        "#before without regulazation 93"
      ],
      "metadata": {
        "colab": {
          "base_uri": "https://localhost:8080/",
          "height": 1000
        },
        "id": "m46QBJz9ZGTb",
        "outputId": "cd8c1e21-430a-45b9-b444-bd9e0e97817b"
      },
      "execution_count": 43,
      "outputs": [
        {
          "output_type": "stream",
          "name": "stdout",
          "text": [
            "14/14 [==============================] - 0s 3ms/step\n",
            "Accuracy: 0.683857\n",
            "Precision: 0.683857\n",
            "Recall: 0.683857\n",
            "F1 Score: 0.683857\n",
            "Hamming Loss: 0.316143\n",
            "Jaccard Score: 0.519591\n",
            "AUC Score: 0.924138\n"
          ]
        },
        {
          "output_type": "stream",
          "name": "stderr",
          "text": [
            "/usr/local/lib/python3.10/dist-packages/sklearn/metrics/_ranking.py:1029: UndefinedMetricWarning: No positive samples in y_true, true positive value should be meaningless\n",
            "  warnings.warn(\n"
          ]
        },
        {
          "output_type": "display_data",
          "data": {
            "text/plain": [
              "<Figure size 1850x800 with 2 Axes>"
            ],
            "image/png": "[encoded data removed]"
          },
          "metadata": {}
        },
        {
          "output_type": "stream",
          "name": "stdout",
          "text": [
            "actual classes in y_test: [0 1 2 3]\n",
            "              precision    recall  f1-score   support\n",
            "\n",
            "           0    0.53459   0.93407   0.68000        91\n",
            "           1    0.83133   0.57500   0.67980       120\n",
            "           2    0.67460   0.71429   0.69388       119\n",
            "           3    0.84615   0.56897   0.68041       116\n",
            "\n",
            "    accuracy                        0.68386       446\n",
            "   macro avg    0.72167   0.69808   0.68352       446\n",
            "weighted avg    0.73282   0.68386   0.68376       446\n",
            "\n"
          ]
        }
      ]
    }
  ]
}